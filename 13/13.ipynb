{
 "cells": [
  {
   "cell_type": "markdown",
   "metadata": {
    "id": "OtVinz039Tpj"
   },
   "source": [
    "# Задание 1.1\n",
    "\n",
    "\n",
    "1. Написать класс BoomBam, у которого есть метод Boom. При его вызове, как ни странно, печатается слово BOOM\n",
    "2. Доработать этот класс так, чтобы вызов метода чередовал слова BOOM и BAM.\n",
    "\n",
    "Плюс пример использования всего функционала класса с комментариями\n"
   ]
  },
  {
   "cell_type": "code",
   "execution_count": 642,
   "metadata": {
    "id": "FjuHeAjiBuLq"
   },
   "outputs": [],
   "source": [
    "class BoomBam:\n",
    "    def __init__(self):\n",
    "        self.tmblr = True\n",
    "\n",
    "    def Boom(self):\n",
    "        print('BOOM')\n",
    "\n",
    "    def Bam(self):\n",
    "        print('BAM')\n",
    "\n",
    "    def click(self):\n",
    "        self.tmblr = abs(self.tmblr - 1)\n",
    "\n",
    "    def message(self):\n",
    "        if self.tmblr == True:\n",
    "            self.Boom()\n",
    "        else:\n",
    "            self.Bam()\n",
    "        self.click()\n"
   ]
  },
  {
   "cell_type": "code",
   "execution_count": 643,
   "metadata": {
    "id": "YDsPip3B9Tpm"
   },
   "outputs": [],
   "source": [
    "# создаем экземпляр\n",
    "a = BoomBam()"
   ]
  },
  {
   "cell_type": "code",
   "execution_count": 644,
   "outputs": [
    {
     "data": {
      "text/plain": "True"
     },
     "execution_count": 644,
     "metadata": {},
     "output_type": "execute_result"
    }
   ],
   "source": [
    "# изначально добавляется атрибут .tmblr = True\n",
    "a.tmblr"
   ],
   "metadata": {
    "collapsed": false,
    "pycharm": {
     "name": "#%%\n"
    }
   }
  },
  {
   "cell_type": "code",
   "execution_count": 48,
   "metadata": {
    "pycharm": {
     "name": "#%%\n"
    }
   },
   "outputs": [
    {
     "name": "stdout",
     "output_type": "stream",
     "text": [
      "BOOM\n"
     ]
    }
   ],
   "source": [
    "# метод Boom\n",
    "a.Boom()"
   ]
  },
  {
   "cell_type": "code",
   "execution_count": null,
   "outputs": [],
   "source": [
    "# метод Bam\n",
    "a.Bam()"
   ],
   "metadata": {
    "collapsed": false,
    "pycharm": {
     "name": "#%%\n"
    }
   }
  },
  {
   "cell_type": "code",
   "execution_count": 646,
   "outputs": [
    {
     "name": "stdout",
     "output_type": "stream",
     "text": [
      "1\n",
      "0\n",
      "1\n"
     ]
    }
   ],
   "source": [
    "# добавлен метод click который меняет значение атрибута .tmblr с True на False и наоборот\n",
    "print(a.tmblr)\n",
    "a.click()\n",
    "print(a.tmblr)\n",
    "a.click()\n",
    "print(a.tmblr)"
   ],
   "metadata": {
    "collapsed": false,
    "pycharm": {
     "name": "#%%\n"
    }
   }
  },
  {
   "cell_type": "code",
   "execution_count": 647,
   "metadata": {
    "id": "CSJOpgAm9Tpw"
   },
   "outputs": [],
   "source": [
    "# следующий метод mesage()? который в зависимости от значения tmblr запускает метод Boom или Bam"
   ]
  },
  {
   "cell_type": "code",
   "execution_count": 648,
   "outputs": [
    {
     "name": "stdout",
     "output_type": "stream",
     "text": [
      "BOOM\n",
      "BAM\n",
      "BOOM\n",
      "BAM\n",
      "BOOM\n",
      "BAM\n",
      "BOOM\n",
      "BAM\n",
      "BOOM\n",
      "BAM\n"
     ]
    }
   ],
   "source": [
    "for _ in range(10):\n",
    "    a.message()\n"
   ],
   "metadata": {
    "collapsed": false,
    "pycharm": {
     "name": "#%%\n"
    }
   }
  },
  {
   "cell_type": "markdown",
   "metadata": {
    "id": "u37GP8no9Tp3"
   },
   "source": [
    "# Задание 1.2\n",
    "\n",
    "\n",
    "Создайте класс RoundCircle. Методы:\n",
    "* add(x, y) -- добавление точки с координатами (x, y)\n",
    "* remove(x, y) -- удаление точки с координатами (x, y)\n",
    "* circle() -- печать координат центра и радиуса минимальной окружности, содержащей все эти точки\n",
    "* plot() -- создание изображения (графика), на котором нарисованы все точки и окружность\n",
    "\n",
    "Плюс пример использования всего функционала класса с комментариями"
   ]
  },
  {
   "cell_type": "code",
   "execution_count": 604,
   "metadata": {
    "id": "5o4SvInH9Tp5"
   },
   "outputs": [],
   "source": [
    "import matplotlib.pyplot as plt\n",
    "import numpy as np\n",
    "from random import randint\n",
    "from itertools import combinations"
   ]
  },
  {
   "cell_type": "code",
   "execution_count": 619,
   "metadata": {
    "pycharm": {
     "name": "#%%\n"
    }
   },
   "outputs": [],
   "source": [
    "class RoundCircle:\n",
    "    def __init__(self):\n",
    "        self.dots = []\n",
    "        self.all_circles = []\n",
    "\n",
    "    def add(self, x, y):\n",
    "        if (x,y) not in self.dots:\n",
    "            self.dots.append((x,y))\n",
    "\n",
    "    def random_dots(self, n = 10, range_x = (-10, 10), range_y = (-10, 10)):\n",
    "        for _ in range(n):\n",
    "            self.add(\n",
    "                randint(range_x[0], range_x[1]),\n",
    "                randint(range_y[0], range_y[1])\n",
    "            )\n",
    "\n",
    "    def remove(self, x, y):\n",
    "        try:\n",
    "            self.dots.remove((x,y))\n",
    "        except ValueError:\n",
    "            pass\n",
    "\n",
    "    def run(self):\n",
    "        try:\n",
    "            type(self.true_circles)\n",
    "        except AttributeError:\n",
    "            self.get_lines()\n",
    "            self.get_triangles()\n",
    "            self.dots_in_circle()\n",
    "\n",
    "# получаем все возможные отрезки между точками (dot1, dot2): = длинна отрезка\n",
    "# плюс данные о окружностях с центром на этих отрезках [x-окружности],[у-окружности],[радиус окружности]\n",
    "    def get_lines(self):\n",
    "        self.all_lines = dict()\n",
    "        for indx1, dot1 in enumerate(self.dots):\n",
    "            for indx2, dot2 in enumerate(self.dots[indx1 + 1:]):\n",
    "                xo = (dot1[0] + dot2[0])/2\n",
    "                yo = (dot1[1] + dot2[1])/2\n",
    "                d = np.sqrt(((dot2[0]-dot1[0])**2) + ((dot2[1]-dot1[1])**2))/2\n",
    "                self.all_lines[(indx1, indx2+indx1+1)] = d\n",
    "                self.all_circles.append((xo,yo,d))\n",
    "\n",
    "# получаем все возможные треугольники и окружности их описывающие [x-окружности],[у-окружности],[радиус окружности]\n",
    "    def get_triangles(self):\n",
    "        self.all_triangles = [i for i in combinations(range(0, len(self.dots)), 3)]\n",
    "        for i in self.all_triangles:\n",
    "            a, b, c = combinations(i, 2)\n",
    "            a, b, c = self.all_lines[a], self.all_lines[b], self.all_lines[c]\n",
    "            ax,ay,bx,by,cx,cy = self.dots[i[0]][0],self.dots[i[0]][1],\\\n",
    "                                self.dots[i[1]][0],self.dots[i[1]][1],\\\n",
    "                                self.dots[i[2]][0],self.dots[i[2]][1]\n",
    "            p = (a+b+c)/2\n",
    "            if ((ax-cx)*(by-cy)-(bx-cx)*(ay-cy))*0.5 == 0:\n",
    "                continue\n",
    "            r = ((a*b*c)/(4*np.sqrt(abs(p*(p-a)*(p-b)*(p-c)))))*2\n",
    "            xo = ((ay*(bx**2+by**2-cx**2-cy**2)+by*(cx**2 +cy**2-ax**2-ay**2)+cy*(ax**2+ay**2-bx**2-by**2))/\n",
    "                  (ax*(by-cy)+bx*(cy-ay)+cx*(ay-by)))*(-0.5)\n",
    "            yo = ((ax*(bx**2+by**2-cx**2-cy**2)+bx*(cx**2 +cy**2-ax**2-ay**2)+cx*(ax**2+ay**2-bx**2-by**2))/\n",
    "                  (ax*(by-cy)+bx*(cy-ay)+cx*(ay-by)))*0.5\n",
    "            self.all_circles.append((xo,yo, r))\n",
    "\n",
    "    def dots_in_circle(self):\n",
    "        self.true_circles = []\n",
    "        for circle in self.all_circles:\n",
    "            for dot in self.dots:\n",
    "                if round((dot[0] - circle[0])**2 + (dot[1] - circle[1])**2,9) > round(circle[2]**2, 9):\n",
    "                    break\n",
    "            else:\n",
    "                self.true_circles.append((circle[0], circle[1], circle[2]))\n",
    "\n",
    "    def circle(self):\n",
    "        self.run()\n",
    "        tmp = [i[2] for i in self.true_circles]\n",
    "        self.circle = self.true_circles[tmp.index(min(tmp))]\n",
    "        print(f'Координаты центра окружности: ({self.circle[0]}, {self.circle[1]}), радиус: {self.circle[2]}')\n",
    "\n",
    "    def plot(self):\n",
    "        x,y,r = self.circle\n",
    "        circle = plt.Circle((x, y), r, color = 'silver')\n",
    "        fig = plt.figure(figsize=(10,10))\n",
    "        ax = plt.gca()\n",
    "        ax.cla()\n",
    "        ax.spines['left'].set_position(('data',0))\n",
    "        ax.spines['bottom'].set_position(('data',0))\n",
    "        ax.spines['top'].set_visible(True)\n",
    "        ax.spines['right'].set_visible(True)\n",
    "        ax.set_xlim((x-r*1.1, x+r*1.1))\n",
    "        ax.set_ylim((y-r*1.1, y+r*1.1))\n",
    "        ax.plot([i[0] for i in self.dots],([j[1] for j in self.dots]), 'o', color='black')\n",
    "        ax.plot(x, y, 'o', color='red')\n",
    "        plt.annotate(f'({round(x, 2)}, {round(y, 2)})', (x, y), xytext=(x + r*0.03, y - r* 0.04), c = 'red')\n",
    "        ax.add_artist(circle)\n",
    "        plt.show()\n"
   ]
  },
  {
   "cell_type": "code",
   "execution_count": 620,
   "outputs": [],
   "source": [
    "# создаем экземпляр класса\n",
    "a = RoundCircle()"
   ],
   "metadata": {
    "collapsed": false,
    "pycharm": {
     "name": "#%%\n"
    }
   }
  },
  {
   "cell_type": "code",
   "execution_count": 621,
   "outputs": [],
   "source": [
    "# добавим пару точек\n",
    "a.add(3,7)\n",
    "a.add(-1,4)"
   ],
   "metadata": {
    "collapsed": false,
    "pycharm": {
     "name": "#%%\n"
    }
   }
  },
  {
   "cell_type": "code",
   "execution_count": 622,
   "outputs": [
    {
     "name": "stdout",
     "output_type": "stream",
     "text": [
      "[(3, 7), (-1, 4)]\n"
     ]
    }
   ],
   "source": [
    "# посмотрим сущеструющие точки\n",
    "print(a.dots)"
   ],
   "metadata": {
    "collapsed": false,
    "pycharm": {
     "name": "#%%\n"
    }
   }
  },
  {
   "cell_type": "code",
   "execution_count": 623,
   "outputs": [
    {
     "name": "stdout",
     "output_type": "stream",
     "text": [
      "[(3, 7), (-1, 4), (9, 3)]\n"
     ]
    }
   ],
   "source": [
    "# невозможно добавить одинаковые точки\n",
    "a.add(3,7)\n",
    "a.add(9,3)\n",
    "print(a.dots)"
   ],
   "metadata": {
    "collapsed": false,
    "pycharm": {
     "name": "#%%\n"
    }
   }
  },
  {
   "cell_type": "code",
   "execution_count": 624,
   "outputs": [
    {
     "name": "stdout",
     "output_type": "stream",
     "text": [
      "[(-1, 4), (9, 3)]\n"
     ]
    }
   ],
   "source": [
    "# удалим одну точку\n",
    "a.remove(3,7)\n",
    "print(a.dots)"
   ],
   "metadata": {
    "collapsed": false,
    "pycharm": {
     "name": "#%%\n"
    }
   }
  },
  {
   "cell_type": "code",
   "execution_count": 625,
   "outputs": [],
   "source": [
    "# добавим случайных точек\n",
    "a.random_dots( n = 20, range_x = (-20, 20), range_y = (-20, 20))"
   ],
   "metadata": {
    "collapsed": false,
    "pycharm": {
     "name": "#%%\n"
    }
   }
  },
  {
   "cell_type": "code",
   "execution_count": 626,
   "outputs": [
    {
     "name": "stdout",
     "output_type": "stream",
     "text": [
      "[(-1, 4), (9, 3), (-10, 5), (19, 18), (-5, -4), (-18, 9), (0, -14), (1, -20), (-16, -1), (-1, 15), (5, -14), (6, 17), (16, -12), (18, 0), (2, 1), (11, 9), (-20, 6), (-6, 1), (-3, 15), (-12, 10), (0, -11), (3, 20)]\n"
     ]
    }
   ],
   "source": [
    "print(a.dots)"
   ],
   "metadata": {
    "collapsed": false,
    "pycharm": {
     "name": "#%%\n"
    }
   }
  },
  {
   "cell_type": "code",
   "execution_count": 627,
   "outputs": [
    {
     "name": "stdout",
     "output_type": "stream",
     "text": [
      "Координаты центра окружности: (2.390995260663507, 2.604265402843602), радиус: 22.64702369445885\n"
     ]
    }
   ],
   "source": [
    "# получаем данные о минимальной окружности описывающей все точки\n",
    "a.circle()"
   ],
   "metadata": {
    "collapsed": false,
    "pycharm": {
     "name": "#%%\n"
    }
   }
  },
  {
   "cell_type": "code",
   "execution_count": 628,
   "outputs": [
    {
     "data": {
      "text/plain": "<Figure size 720x720 with 1 Axes>",
      "image/png": "[encoded data removed]"
     },
     "metadata": {
      "needs_background": "light"
     },
     "output_type": "display_data"
    }
   ],
   "source": [
    "# рисуем круг и точки\n",
    "a.plot()"
   ],
   "metadata": {
    "collapsed": false,
    "pycharm": {
     "name": "#%%\n"
    }
   }
  },
  {
   "cell_type": "markdown",
   "source": [
    "-----------------------------------------------------"
   ],
   "metadata": {
    "collapsed": false,
    "pycharm": {
     "name": "#%% md\n"
    }
   }
  },
  {
   "cell_type": "code",
   "execution_count": null,
   "outputs": [],
   "source": [
    "# метод .circle() проверяет имеется ли экземпляра объекта атрибут .true_circles\n",
    "# если нет, он запускает ряд методов для нахождения нужной окружности\n",
    "# далее эти методы по порядку"
   ],
   "metadata": {
    "collapsed": false,
    "pycharm": {
     "name": "#%%\n"
    }
   }
  },
  {
   "cell_type": "code",
   "execution_count": 629,
   "outputs": [],
   "source": [
    "# создаем экземпляр объекта\n",
    "b = RoundCircle()\n",
    "b.random_dots( n = 5, range_x = (2, 11), range_y = (0, 3))"
   ],
   "metadata": {
    "collapsed": false,
    "pycharm": {
     "name": "#%%\n"
    }
   }
  },
  {
   "cell_type": "code",
   "execution_count": 630,
   "outputs": [],
   "source": [
    "# запускаем метод get_lines() который находит все отрезки между точками\n",
    "b.get_lines()"
   ],
   "metadata": {
    "collapsed": false,
    "pycharm": {
     "name": "#%%\n"
    }
   }
  },
  {
   "cell_type": "code",
   "execution_count": 631,
   "outputs": [
    {
     "data": {
      "text/plain": "{(0, 1): 1.0,\n (0, 2): 0.5,\n (0, 3): 1.118033988749895,\n (0, 4): 4.0,\n (1, 2): 1.118033988749895,\n (1, 3): 1.8027756377319946,\n (1, 4): 4.123105625617661,\n (2, 3): 1.5811388300841898,\n (2, 4): 4.5,\n (3, 4): 3.0413812651491097}"
     },
     "execution_count": 631,
     "metadata": {},
     "output_type": "execute_result"
    }
   ],
   "source": [
    "# этот метод создает два атрибута"
   ],
   "metadata": {
    "collapsed": false,
    "pycharm": {
     "name": "#%%\n"
    }
   }
  },
  {
   "cell_type": "code",
   "execution_count": null,
   "outputs": [],
   "source": [
    "# словарь all_lines в котором содержаться длинны отрезков\n",
    "# (dot1, dot2): = длинна отрезка\n",
    "b.all_lines"
   ],
   "metadata": {
    "collapsed": false,
    "pycharm": {
     "name": "#%%\n"
    }
   }
  },
  {
   "cell_type": "code",
   "execution_count": 633,
   "outputs": [
    {
     "data": {
      "text/plain": "[(10.0, 2.0, 1.0),\n (10.5, 1.0, 0.5),\n (9.0, 0.5, 1.118033988749895),\n (6.0, 1.0, 4.0),\n (10.5, 2.0, 1.118033988749895),\n (9.0, 1.5, 1.8027756377319946),\n (6.0, 2.0, 4.123105625617661),\n (9.5, 0.5, 1.5811388300841898),\n (6.5, 1.0, 4.5),\n (5.0, 0.5, 3.0413812651491097)]"
     },
     "execution_count": 633,
     "metadata": {},
     "output_type": "execute_result"
    }
   ],
   "source": [
    "# список all_circle в котором содержатся все возможные окружности\n",
    "# [x-окружности],[у-окружности],[радиус окружности]\n",
    "# после исполнения метода get_lines в этот атрибут добавляются все окружности построенные по двум точкам\n",
    "b.all_circles"
   ],
   "metadata": {
    "collapsed": false,
    "pycharm": {
     "name": "#%%\n"
    }
   }
  },
  {
   "cell_type": "code",
   "execution_count": 634,
   "outputs": [],
   "source": [
    "# далее метод get_triangles(), получаем все возможные комбинации по три точки\n",
    "# после чего находятся окружности описывающие эти треугольники\n",
    "# (три точки лежащие на одной прямой отсеиваются)\n",
    "b.get_triangles()"
   ],
   "metadata": {
    "collapsed": false,
    "pycharm": {
     "name": "#%%\n"
    }
   }
  },
  {
   "cell_type": "code",
   "execution_count": 636,
   "outputs": [
    {
     "data": {
      "text/plain": "[(0, 1, 2),\n (0, 1, 3),\n (0, 1, 4),\n (0, 2, 3),\n (0, 2, 4),\n (0, 3, 4),\n (1, 2, 3),\n (1, 2, 4),\n (1, 3, 4),\n (2, 3, 4)]"
     },
     "execution_count": 636,
     "metadata": {},
     "output_type": "execute_result"
    }
   ],
   "source": [
    "# после того как метод отработал у экземпляра появляется атрибут all_triangles\n",
    "# все возможные треугольники из заданых точек\n",
    "b.all_triangles"
   ],
   "metadata": {
    "collapsed": false,
    "pycharm": {
     "name": "#%%\n"
    }
   }
  },
  {
   "cell_type": "code",
   "execution_count": 637,
   "outputs": [
    {
     "data": {
      "text/plain": "[(10.0, 2.0, 1.0),\n (10.5, 1.0, 0.5),\n (9.0, 0.5, 1.118033988749895),\n (6.0, 1.0, 4.0),\n (10.5, 2.0, 1.118033988749895),\n (9.0, 1.5, 1.8027756377319946),\n (6.0, 2.0, 4.123105625617661),\n (9.5, 0.5, 1.5811388300841898),\n (6.5, 1.0, 4.5),\n (5.0, 0.5, 3.0413812651491097),\n (10.5, 2.0, 1.118033988749895),\n (8.25, 2.0, 2.015564437074636),\n (6.0, 2.0, 4.123105625617657),\n (10.5, -2.5, 3.535533905932729),\n (6.0, 6.5, 6.800735254367735),\n (9.214285714285714, 1.3571428571428572, 1.8210783977117078),\n (6.5, -0.0, 4.609772228646448),\n (5.55, 3.8, 4.521338297451321),\n (6.5, 9.5, 9.617692030835647)]"
     },
     "execution_count": 637,
     "metadata": {},
     "output_type": "execute_result"
    }
   ],
   "source": [
    "# а так же в атрибут all_circles добавляются новые окружности\n",
    "b.all_circles"
   ],
   "metadata": {
    "collapsed": false,
    "pycharm": {
     "name": "#%%\n"
    }
   }
  },
  {
   "cell_type": "code",
   "execution_count": 638,
   "outputs": [
    {
     "data": {
      "text/plain": "[(6.5, 1.0, 4.5),\n (6.5, -0.0, 4.609772228646448),\n (6.5, 9.5, 9.617692030835647)]"
     },
     "execution_count": 638,
     "metadata": {},
     "output_type": "execute_result"
    }
   ],
   "source": [
    "# следующий шаг метод dots_in_circle, который проверяет каждую окружность,\n",
    "# на принодлежность к ней всех заданных точек\n",
    "# результат заносится в список атрибута true_circles\n",
    "b.dots_in_circle()\n",
    "b.true_circles"
   ],
   "metadata": {
    "collapsed": false,
    "pycharm": {
     "name": "#%%\n"
    }
   }
  },
  {
   "cell_type": "code",
   "execution_count": 640,
   "outputs": [
    {
     "name": "stdout",
     "output_type": "stream",
     "text": [
      "Координаты центра окружности: (6.5, 1.0), радиус: 4.5\n"
     ]
    },
    {
     "data": {
      "text/plain": "<Figure size 720x720 with 1 Axes>",
      "image/png": "[encoded data removed]"
     },
     "metadata": {
      "needs_background": "light"
     },
     "output_type": "display_data"
    }
   ],
   "source": [
    "# следующий метод circle()\n",
    "# среди окружностей из true_circles выбирается та у которой меньше радиус и выводится ее данные\n",
    "b.circle()"
   ],
   "metadata": {
    "collapsed": false,
    "pycharm": {
     "name": "#%%\n"
    }
   }
  },
  {
   "cell_type": "code",
   "execution_count": null,
   "outputs": [],
   "source": [
    "# рисуем на экране всю картину целиком\n",
    "b.plot()"
   ],
   "metadata": {
    "collapsed": false,
    "pycharm": {
     "name": "#%%\n"
    }
   }
  },
  {
   "cell_type": "markdown",
   "metadata": {
    "id": "--Fm9Wni9TqG"
   },
   "source": [
    "# Задание 2.1\n",
    "\n",
    "Создать базовый класс - Геометрическая фигура, определить в нём поля и следующие методы: инициализация, печать, посчитать площадь и периметр. Создать 3 класса - наследника (квадрат, круг, конус), переопределить методы, при необходимости - добавить. \n",
    "\n",
    "Плюс пример использования всего функционала класса с комментариями\n"
   ]
  },
  {
   "cell_type": "code",
   "execution_count": 403,
   "outputs": [],
   "source": [
    "import numpy as np"
   ],
   "metadata": {
    "collapsed": false,
    "pycharm": {
     "name": "#%%\n"
    }
   }
  },
  {
   "cell_type": "code",
   "execution_count": 446,
   "outputs": [],
   "source": [
    "class Figure:\n",
    "    def __init__(self):\n",
    "        self.fig = 'Не задана'\n",
    "        self.s = 0\n",
    "        self.p = 0\n",
    "        self.v = 0\n",
    "\n",
    "    def form(self, txt, obj):\n",
    "        return f'| {txt}: {obj}'.ljust(79) + \"|\"\n",
    "\n",
    "    def prnt(self):\n",
    "        print(''.center(80,'-'))\n",
    "        self.info()\n",
    "        print(''.center(80,'-'))\n",
    "        if self.s != 0:\n",
    "            print(self.form('Площадь', self.s))\n",
    "        if self.p != 0:\n",
    "            print(self.form('Периметр', self.p))\n",
    "        if self.v != 0:\n",
    "            print(self.form('Объем', self.v))\n",
    "        print(''.center(80,'-'))\n",
    "\n",
    "    def info(self):\n",
    "        print(self.form('Фигура', self.fig))\n",
    "        print(''.center(80,'-'))\n",
    "\n",
    "    def square(self):\n",
    "        print(f'Площадь: {self.s}')\n",
    "\n",
    "    def perimeter(self):\n",
    "        pass\n",
    "\n",
    "    def volume(self):\n",
    "        pass\n",
    "\n",
    "\n",
    "class Foursquare(Figure):\n",
    "    def __init__(self, a):\n",
    "        super().__init__()\n",
    "        self.fig = 'Квадрат'\n",
    "        self.a = a\n",
    "\n",
    "    def info(self):\n",
    "        super().info()\n",
    "        print(self.form('Длинна сторон', self.a))\n",
    "\n",
    "    def square(self, print = False):\n",
    "        self.s = self.a**2\n",
    "        if print == True:\n",
    "            super().square()\n",
    "\n",
    "    def perimeter(self, print = False):\n",
    "        self.p = self.a*4\n",
    "        if print == True:\n",
    "            super().perimeter()\n",
    "\n",
    "\n",
    "class Circle(Figure):\n",
    "    def __init__(self, r):\n",
    "        super().__init__()\n",
    "        self.fig = 'Круг'\n",
    "        self.r = r\n",
    "\n",
    "    def info(self):\n",
    "        super().info()\n",
    "        print(self.form('Радиус', self.r))\n",
    "\n",
    "    def square(self, print = False):\n",
    "        self.s = self.r**2*np.pi\n",
    "        if print == True:\n",
    "            super().square()\n",
    "\n",
    "    def perimeter(self, print = False):\n",
    "        self.p = self.r*2*np.pi\n",
    "        if print == True:\n",
    "            super().perimeter()\n",
    "\n",
    "\n",
    "class Cone(Figure):\n",
    "    def __init__(self, r, h):\n",
    "        super().__init__()\n",
    "        self.fig = 'Конус'\n",
    "        self.r = r\n",
    "        self.h =h\n",
    "\n",
    "    def info(self):\n",
    "        super().info()\n",
    "        print(self.form('Радиус основания', self.r))\n",
    "        print(self.form('Высота', self.h))\n",
    "\n",
    "    def square(self, print = False):\n",
    "        tmp = Circle(self.r)\n",
    "        tmp.square()\n",
    "        self.s_circle = tmp.s\n",
    "        self.s_surface = np.pi * self.r * np.sqrt(self.r**2 + self.h**2)\n",
    "\n",
    "        self.s = self.s_circle + self.s_surface\n",
    "        if print == True:\n",
    "            super().square()\n",
    "\n",
    "    def volume(self, print = False):\n",
    "        if self.s_circle == 0:\n",
    "            self.square()\n",
    "        self.v = (self.h*self.s_circle)/3\n",
    "        if print == True:\n",
    "            super().volume()\n",
    "\n",
    "    def perimeter(self, print = False):\n",
    "            self.p = self.r*2*np.pi\n",
    "            if print == True:\n",
    "                super().perimeter()"
   ],
   "metadata": {
    "collapsed": false,
    "pycharm": {
     "name": "#%%\n"
    }
   }
  },
  {
   "cell_type": "code",
   "execution_count": 421,
   "outputs": [],
   "source": [
    "# создаем квадрат с длинной стороны 3\n",
    "f = Foursquare(3)"
   ],
   "metadata": {
    "collapsed": false,
    "pycharm": {
     "name": "#%%\n"
    }
   }
  },
  {
   "cell_type": "code",
   "execution_count": 422,
   "outputs": [
    {
     "name": "stdout",
     "output_type": "stream",
     "text": [
      "0 0\n"
     ]
    }
   ],
   "source": [
    "# периметр и площадь еще не вычислены\n",
    "print(f.p, f.s)"
   ],
   "metadata": {
    "collapsed": false,
    "pycharm": {
     "name": "#%%\n"
    }
   }
  },
  {
   "cell_type": "code",
   "execution_count": 423,
   "outputs": [],
   "source": [
    "f.perimeter()\n",
    "f.square()"
   ],
   "metadata": {
    "collapsed": false,
    "pycharm": {
     "name": "#%%\n"
    }
   }
  },
  {
   "cell_type": "code",
   "execution_count": 424,
   "outputs": [
    {
     "name": "stdout",
     "output_type": "stream",
     "text": [
      "12 9\n"
     ]
    }
   ],
   "source": [
    "print(f.p, f.s)"
   ],
   "metadata": {
    "collapsed": false,
    "pycharm": {
     "name": "#%%\n"
    }
   }
  },
  {
   "cell_type": "code",
   "execution_count": 425,
   "outputs": [
    {
     "name": "stdout",
     "output_type": "stream",
     "text": [
      "--------------------------------------------------------------------------------\n",
      "| Фигура: Квадрат                                                              |\n",
      "--------------------------------------------------------------------------------\n",
      "| Длинна сторон: 3                                                             |\n",
      "--------------------------------------------------------------------------------\n",
      "| Площадь: 9                                                                   |\n",
      "| Периметр: 12                                                                 |\n",
      "--------------------------------------------------------------------------------\n"
     ]
    }
   ],
   "source": [
    "# или полный вывод информации по объекту\n",
    "f.prnt()"
   ],
   "metadata": {
    "collapsed": false,
    "pycharm": {
     "name": "#%%\n"
    }
   }
  },
  {
   "cell_type": "code",
   "execution_count": 435,
   "outputs": [],
   "source": [
    "# тоже самое для круга\n",
    "c = Circle(8)"
   ],
   "metadata": {
    "collapsed": false,
    "pycharm": {
     "name": "#%%\n"
    }
   }
  },
  {
   "cell_type": "code",
   "execution_count": 437,
   "outputs": [
    {
     "name": "stdout",
     "output_type": "stream",
     "text": [
      "50.26548245743669 201.06192982974676\n"
     ]
    }
   ],
   "source": [
    "c.perimeter()\n",
    "c.square()\n",
    "print(c.p, c.s)"
   ],
   "metadata": {
    "collapsed": false,
    "pycharm": {
     "name": "#%%\n"
    }
   }
  },
  {
   "cell_type": "code",
   "execution_count": 438,
   "outputs": [
    {
     "name": "stdout",
     "output_type": "stream",
     "text": [
      "--------------------------------------------------------------------------------\n",
      "| Фигура: Круг                                                                 |\n",
      "--------------------------------------------------------------------------------\n",
      "| Радиус: 8                                                                    |\n",
      "--------------------------------------------------------------------------------\n",
      "| Площадь: 201.06192982974676                                                  |\n",
      "| Периметр: 50.26548245743669                                                  |\n",
      "--------------------------------------------------------------------------------\n"
     ]
    }
   ],
   "source": [
    "# или полный вывод информации по объекту\n",
    "c.prnt()"
   ],
   "metadata": {
    "collapsed": false,
    "pycharm": {
     "name": "#%%\n"
    }
   }
  },
  {
   "cell_type": "code",
   "execution_count": 447,
   "outputs": [],
   "source": [
    "# для конуса\n",
    "con = Cone(r=7, h=3)"
   ],
   "metadata": {
    "collapsed": false,
    "pycharm": {
     "name": "#%%\n"
    }
   }
  },
  {
   "cell_type": "code",
   "execution_count": 448,
   "outputs": [
    {
     "name": "stdout",
     "output_type": "stream",
     "text": [
      "0 0 0\n"
     ]
    }
   ],
   "source": [
    "# периметр, площадь и объем равня 0\n",
    "print(con.p, con.s, con.v)"
   ],
   "metadata": {
    "collapsed": false,
    "pycharm": {
     "name": "#%%\n"
    }
   }
  },
  {
   "cell_type": "code",
   "execution_count": 449,
   "outputs": [
    {
     "name": "stdout",
     "output_type": "stream",
     "text": [
      "321.41763791142125 153.93804002589985\n"
     ]
    }
   ],
   "source": [
    "# найдем площадь и объем\n",
    "con.square()\n",
    "con.volume()\n",
    "print(con.s, con.v)"
   ],
   "metadata": {
    "collapsed": false,
    "pycharm": {
     "name": "#%%\n"
    }
   }
  },
  {
   "cell_type": "code",
   "execution_count": 450,
   "outputs": [
    {
     "name": "stdout",
     "output_type": "stream",
     "text": [
      "--------------------------------------------------------------------------------\n",
      "| Фигура: Конус                                                                |\n",
      "--------------------------------------------------------------------------------\n",
      "| Радиус основания: 7                                                          |\n",
      "| Высота: 3                                                                    |\n",
      "--------------------------------------------------------------------------------\n",
      "| Площадь: 321.41763791142125                                                  |\n",
      "| Объем: 153.93804002589985                                                    |\n",
      "--------------------------------------------------------------------------------\n"
     ]
    }
   ],
   "source": [
    "# объщая информация по фигуре\n",
    "con.prnt()"
   ],
   "metadata": {
    "collapsed": false,
    "pycharm": {
     "name": "#%%\n"
    }
   }
  },
  {
   "cell_type": "code",
   "execution_count": 451,
   "outputs": [
    {
     "name": "stdout",
     "output_type": "stream",
     "text": [
      "43.982297150257104\n"
     ]
    }
   ],
   "source": [
    "# можно найти периметр основания окружности\n",
    "con.perimeter()\n",
    "print(con.p)"
   ],
   "metadata": {
    "collapsed": false,
    "pycharm": {
     "name": "#%%\n"
    }
   }
  },
  {
   "cell_type": "code",
   "execution_count": 452,
   "outputs": [
    {
     "name": "stdout",
     "output_type": "stream",
     "text": [
      "--------------------------------------------------------------------------------\n",
      "| Фигура: Конус                                                                |\n",
      "--------------------------------------------------------------------------------\n",
      "| Радиус основания: 7                                                          |\n",
      "| Высота: 3                                                                    |\n",
      "--------------------------------------------------------------------------------\n",
      "| Площадь: 321.41763791142125                                                  |\n",
      "| Периметр: 43.982297150257104                                                 |\n",
      "| Объем: 153.93804002589985                                                    |\n",
      "--------------------------------------------------------------------------------\n"
     ]
    }
   ],
   "source": [
    "con.prnt()"
   ],
   "metadata": {
    "collapsed": false,
    "pycharm": {
     "name": "#%%\n"
    }
   }
  },
  {
   "cell_type": "markdown",
   "metadata": {
    "id": "As28cKC89TqO"
   },
   "source": [
    "# Задание 2.2\n",
    "\n",
    "Создать собственный класс - строку. Отнаследовать от него классы: палиндром (при инициалицации создаёт из строки палиндром, если она не является палидромом), транслит(переводит строку в транслитерационную запись). Длина всех строк не должна превышать 20 символов. Перегружать можно только метод `__init__`\n",
    "\n",
    "Плюс пример использования всего функционала класса с комментариями"
   ]
  },
  {
   "cell_type": "code",
   "execution_count": 166,
   "metadata": {
    "id": "xcRnbRKm9TqP"
   },
   "outputs": [],
   "source": [
    "class String:\n",
    "    def __init__(self, s, print = False, limit = 20):\n",
    "        self.prnt = print\n",
    "\n",
    "        self.str = s[:limit]\n",
    "        self.out = None\n",
    "\n",
    "    def prnt(self):\n",
    "        if self.prnt:\n",
    "            print (self.out)\n",
    "\n",
    "\n",
    "class Polyndrom(String):\n",
    "    def __init__(self, str, method = 'max', print = False, limit = 20):\n",
    "        super().__init__(str.replace(' ', '').lower(), print, limit)\n",
    "        self.out = self.str.replace(' ', '').lower()\n",
    "        self.poly_verify = True if self.str == self.str[::-1] else False\n",
    "        self.method = method\n",
    "        self.run()\n",
    "\n",
    "    def run(self):\n",
    "        if not self.poly_verify:\n",
    "            if self.method == 'max':\n",
    "                self.out = self.str + self.str[::-1]\n",
    "            else:\n",
    "                self.find_continue()\n",
    "        else:\n",
    "            self.out = self.str\n",
    "        super().prnt()\n",
    "\n",
    "    def find_continue(self):\n",
    "        self.out = self.str\n",
    "        cnt = 0\n",
    "        while len(self.out) > cnt-1:\n",
    "            if self.out[cnt::] == self.out[cnt::][::-1]:\n",
    "                self.out += self.str[:cnt][::-1]\n",
    "                break\n",
    "            cnt +=1\n",
    "\n",
    "\n",
    "class Translit(String):\n",
    "    def __init__(self, str, method = 'inter_telegram', print = False, limit = 20):\n",
    "        super().__init__(str, print, limit)\n",
    "        self.trans_key = {'а': 'a', 'б': 'b', 'в': 'v', 'г': 'g', 'д': 'd',  'з': 'z', 'к': 'k',\n",
    "                          'л': 'l', 'м': 'm', 'н': 'n', 'о': 'o', 'п': 'p', 'р': 'r',\n",
    "                          'с': 's', 'т': 't', 'у': 'u', 'ф': 'f',}\n",
    "        self.method = method\n",
    "        self.run()\n",
    "\n",
    "    def method_translate(self):\n",
    "        if self.method == 'gost7.79-2000(b)':\n",
    "            self.trans_key.update({'е': 'e', 'ё': 'oy', 'ж': 'zh', 'и': 'i', 'й': 'j',\n",
    "                                   'х': 'x', 'ц': 'cz', 'ч': 'ch', 'ш': 'š', 'щ': 'shh',\n",
    "                                   'ъ': '``', 'ы': 'y`', 'ь': '`', 'э': 'e`', 'ю': 'yu', 'я': 'â'})\n",
    "        elif self.method == 'gost7.79-2000(a)':\n",
    "            self.trans_key.update({'е': 'e', 'ё': 'ë', 'ж': 'ž', 'и': 'i', 'й': 'j',\n",
    "                                   'х': 'h', 'ц': 'c', 'ч': 'č', 'ш': 'sh', 'щ': 'ŝ',\n",
    "                                   'ъ': '″', 'ы': 'y', 'ь': '′', 'э': 'è', 'ю': 'û', 'я': 'ya'})\n",
    "        elif self.method == 'inter_telegram':\n",
    "            self.trans_key.update({'е': 'e', 'ё': 'e', 'ж': 'j', 'и': 'i', 'й': 'i',\n",
    "                                   'х': 'h', 'ц': 'c', 'ч': 'ch', 'ш': 'sh', 'щ': 'sc',\n",
    "                                   'ъ': '', 'ы': 'y', 'ь': '', 'э': 'e', 'ю': 'iu', 'я': 'ia'})\n",
    "        elif self.method == 'zagran_pasport':\n",
    "            self.trans_key.update({'е': 'e', 'ё': 'e', 'ж': 'zh', 'и': 'i', 'й': 'i',\n",
    "                                   'х': 'kh', 'ц': 'ts', 'ч': 'ch', 'ш': 'sh', 'щ': 'shch',\n",
    "                                   'ъ': 'ie', 'ы': 'y', 'ь': '', 'э': 'e', 'ю': 'iu', 'я': 'ia'})\n",
    "\n",
    "    def run(self):\n",
    "        if self.method not in ['gost7.79-2000(b)', 'gost7.79-2000(a)', 'inter_telegram', 'zagran_pasport']:\n",
    "            self.method = zagran_pasport\n",
    "        self.method_translate()\n",
    "        res = []\n",
    "        for i in self.str.split():\n",
    "            if i.istitle():\n",
    "                res.append(''.join([self.trans_key.get(j, j) for j in i.lower()]).title())\n",
    "            elif i.islower():\n",
    "                res.append(''.join([self.trans_key.get(j, j) for j in i]))\n",
    "            elif i.isupper():\n",
    "                res.append(''.join([self.trans_key.get(j, j) for j in i.lower()]).upper())\n",
    "            else:\n",
    "                res.append(''.join([self.trans_key.get(j, j) if j.islower() else self.trans_key.get(j.lower(), j).title() for j in i]))\n",
    "        self.out = ' '.join(res)\n",
    "        super().prnt()"
   ]
  },
  {
   "cell_type": "markdown",
   "source": [
    "Полиндром"
   ],
   "metadata": {
    "collapsed": false
   }
  },
  {
   "cell_type": "code",
   "execution_count": null,
   "outputs": [],
   "source": [
    "# создаем объект и распечатываем полиндром текста out\n",
    "# в данном случае эта фраза является полиндромом и позвращается текст\n",
    "poly = Polyndrom('Аргентина манит негра')\n",
    "print(poly.out)"
   ],
   "metadata": {
    "collapsed": false,
    "pycharm": {
     "name": "#%%\n"
    }
   }
  },
  {
   "cell_type": "code",
   "execution_count": 161,
   "outputs": [
    {
     "name": "stdout",
     "output_type": "stream",
     "text": [
      "True\n"
     ]
    }
   ],
   "source": [
    "# является ли полиндромом\n",
    "print(poly.poly_verify)"
   ],
   "metadata": {
    "collapsed": false,
    "pycharm": {
     "name": "#%%\n"
    }
   }
  },
  {
   "cell_type": "code",
   "execution_count": 162,
   "outputs": [
    {
     "name": "stdout",
     "output_type": "stream",
     "text": [
      "урезанная строка: арген\n",
      "полиндром от нее: аргеннегра\n"
     ]
    }
   ],
   "source": [
    "# для начальной строки установленн лимит 20 символов\n",
    "# можно увеличить лимит или отключить (None)\n",
    "poly = Polyndrom('Аргентина манит негра', limit= 5)\n",
    "print('урезанная строка:', poly.str)\n",
    "print('полиндром от нее:', poly.out)"
   ],
   "metadata": {
    "collapsed": false,
    "pycharm": {
     "name": "#%%\n"
    }
   }
  },
  {
   "cell_type": "code",
   "execution_count": 163,
   "outputs": [],
   "source": [
    "# можно сразу распечатать результат передать при создании аргумент print=True\n",
    "# есть два способа создания полиндрома method= 'max', 'min'"
   ],
   "metadata": {
    "collapsed": false,
    "pycharm": {
     "name": "#%%\n"
    }
   }
  },
  {
   "cell_type": "code",
   "execution_count": 168,
   "outputs": [
    {
     "name": "stdout",
     "output_type": "stream",
     "text": [
      "абвббвба\n"
     ]
    }
   ],
   "source": [
    "# максимальный добовляется перевернутая строка\n",
    "poly = Polyndrom('абвб', method='max', print=True)"
   ],
   "metadata": {
    "collapsed": false,
    "pycharm": {
     "name": "#%%\n"
    }
   }
  },
  {
   "cell_type": "code",
   "execution_count": 169,
   "outputs": [
    {
     "name": "stdout",
     "output_type": "stream",
     "text": [
      "абвба\n"
     ]
    }
   ],
   "source": [
    "# минимальный, ищет в строке возможные повторы\n",
    "poly = Polyndrom('абвб', method='mix', print=True)"
   ],
   "metadata": {
    "collapsed": false,
    "pycharm": {
     "name": "#%%\n"
    }
   }
  },
  {
   "cell_type": "markdown",
   "source": [
    "Транслит"
   ],
   "metadata": {
    "collapsed": false,
    "pycharm": {
     "name": "#%% md\n"
    }
   }
  },
  {
   "cell_type": "code",
   "execution_count": 170,
   "outputs": [],
   "source": [
    "txt = 'Создать собственный класс - строку. Отнаследовать от него классы: палиндром (при инициалицации создаёт из строки палиндром, если она не является палидромом), транслит(переводит строку в транслитерационную запись). Длина всех строк не должна превышать 20 символов. Перегружать можно только метод __init__'"
   ],
   "metadata": {
    "collapsed": false,
    "pycharm": {
     "name": "#%%\n"
    }
   }
  },
  {
   "cell_type": "code",
   "execution_count": 171,
   "outputs": [
    {
     "name": "stdout",
     "output_type": "stream",
     "text": [
      "Sozdat sobstvennyi\n"
     ]
    }
   ],
   "source": [
    "# создаем объект и распечатываем его атрибут out\n",
    "trans = Translit(txt)\n",
    "print(trans.out)"
   ],
   "metadata": {
    "collapsed": false,
    "pycharm": {
     "name": "#%%\n"
    }
   }
  },
  {
   "cell_type": "code",
   "execution_count": 172,
   "outputs": [
    {
     "name": "stdout",
     "output_type": "stream",
     "text": [
      "Sozdat sobstvennyi klass - stroku. Otnasledovat\n"
     ]
    }
   ],
   "source": [
    "# начальныя строка была урезана до 20 символов\n",
    "# можно увеличить лимит или отключить (None)\n",
    "trans = Translit(txt, limit = 50).out\n",
    "print(trans)"
   ],
   "metadata": {
    "collapsed": false,
    "pycharm": {
     "name": "#%%\n"
    }
   }
  },
  {
   "cell_type": "code",
   "execution_count": 173,
   "outputs": [
    {
     "name": "stdout",
     "output_type": "stream",
     "text": [
      "PRIVET, TekstBezProbelov,\n"
     ]
    }
   ],
   "source": [
    "# есть распознование больших маленьких букв в словах\n",
    "# можно сразу распечатать результат\n",
    "txt = 'ПРИВЕТ, ТекстБезПробелов,'\n",
    "trans = Translit(txt, limit = None, print=True)"
   ],
   "metadata": {
    "collapsed": false,
    "pycharm": {
     "name": "#%%\n"
    }
   }
  },
  {
   "cell_type": "code",
   "execution_count": 174,
   "outputs": [],
   "source": [
    "# добавлены 4 таблицы транслитерации method по ключам:\n",
    "# 'gost7.79-2000(b)', 'gost7.79-2000(a)', 'inter_telegram', 'zagran_pasport'\n",
    "txt = 'подъезд, желудь, щука, чаща, Юлия, эхо, ЦПУ'"
   ],
   "metadata": {
    "collapsed": false,
    "pycharm": {
     "name": "#%%\n"
    }
   }
  },
  {
   "cell_type": "code",
   "execution_count": 175,
   "outputs": [
    {
     "name": "stdout",
     "output_type": "stream",
     "text": [
      "pod″ezd, želud′, ŝuka, čaŝa, Ûliya, èho, CPU\n"
     ]
    }
   ],
   "source": [
    "trans = Translit(txt, method='gost7.79-2000(a)', limit = None, print=True)"
   ],
   "metadata": {
    "collapsed": false,
    "pycharm": {
     "name": "#%%\n"
    }
   }
  },
  {
   "cell_type": "code",
   "execution_count": 176,
   "outputs": [
    {
     "name": "stdout",
     "output_type": "stream",
     "text": [
      "pod``ezd, zhelud`, shhuka, chashha, Yuliâ, e`xo, CZPU\n"
     ]
    }
   ],
   "source": [
    "trans = Translit(txt, method='gost7.79-2000(b)', limit = None, print=True)"
   ],
   "metadata": {
    "collapsed": false,
    "pycharm": {
     "name": "#%%\n"
    }
   }
  },
  {
   "cell_type": "code",
   "execution_count": 177,
   "outputs": [
    {
     "name": "stdout",
     "output_type": "stream",
     "text": [
      "podezd, jelud, scuka, chasca, Iuliia, eho, CPU\n"
     ]
    }
   ],
   "source": [
    "trans = Translit(txt, method='inter_telegram', limit = None, print=True)"
   ],
   "metadata": {
    "collapsed": false,
    "pycharm": {
     "name": "#%%\n"
    }
   }
  },
  {
   "cell_type": "code",
   "execution_count": 178,
   "outputs": [
    {
     "name": "stdout",
     "output_type": "stream",
     "text": [
      "podieezd, zhelud, shchuka, chashcha, Iuliia, ekho, TSPU\n"
     ]
    }
   ],
   "source": [
    "trans = Translit(txt, method='zagran_pasport', limit = None, print=True)\n",
    "# print(w.out)\n",
    "# print(w)"
   ],
   "metadata": {
    "collapsed": false,
    "pycharm": {
     "name": "#%%\n"
    }
   }
  },
  {
   "cell_type": "code",
   "execution_count": 179,
   "outputs": [
    {
     "name": "stdout",
     "output_type": "stream",
     "text": [
      "qazwxedcrfvtgbyhnujunhybgtvfrcdexwzaq\n"
     ]
    }
   ],
   "source": [],
   "metadata": {
    "collapsed": false,
    "pycharm": {
     "name": "#%%\n"
    }
   }
  },
  {
   "cell_type": "markdown",
   "metadata": {
    "id": "YfUyMU189TqX"
   },
   "source": [
    "# Задание 3.1\n",
    "\n",
    "Создайте класс «Целочисленная матрица» для работы с матрицами произвольного размера. В классе должны быть реализованы следующие операции:\n",
    "\n",
    "•\tприбавление к одной матрице другой, вычитание матриц, умножение матрицы на матрицу и умножение матрицы на число.(реализовать с помощью перегрузки операций); \n",
    "\n",
    "•\tзаполнение матрицы случайными числами из заданного диапазона;\n",
    "\n",
    "•\tвывод матрицы на печать;\n",
    "\n",
    "•\tнахождение транспонированной матрицы\n",
    "\n",
    "•\tопределение ортогональности матрицы\n",
    "\n",
    "•\tсравнение на равенство (операция ==)."
   ]
  },
  {
   "cell_type": "code",
   "execution_count": 1,
   "metadata": {
    "id": "y6dxJAiL9TqZ"
   },
   "outputs": [],
   "source": [
    "import numpy as np"
   ]
  },
  {
   "cell_type": "code",
   "execution_count": 383,
   "outputs": [],
   "source": [
    "class Matrix:\n",
    "    def __init__(self, size = None, mtx = None):\n",
    "        self.size_mtx = size if mtx is None else mtx.shape\n",
    "        self.mtx = mtx\n",
    "\n",
    "    def __repr__(self):\n",
    "        return f'{self.mtx}'\n",
    "\n",
    "    def __add__(self, other):\n",
    "        return Matrix(mtx= self.mtx + other.mtx)\n",
    "\n",
    "    def __sub__(self, other):\n",
    "        return Matrix(mtx= self.mtx - other.mtx)\n",
    "\n",
    "    def __mul__(self, other):\n",
    "        if isinstance(other,(int,float)):\n",
    "            # type(other) == int or type(other) == float:\n",
    "            return Matrix(mtx=self.mtx * other)\n",
    "        else:\n",
    "            if self.size_mtx[0] == other.size_mtx[1] and self.size_mtx[1] == other.size_mtx[0]:\n",
    "                return Matrix(mtx=self.mtx @ other.mtx)\n",
    "            else:\n",
    "                print(f'Невозможные размерности перемножаемых матриц {self.size_mtx}, {other.size_mtx})')\n",
    "\n",
    "    def __eq__(self, other):\n",
    "        if self.mtx.ravel().shape == other.mtx.ravel().shape:\n",
    "            if np.all(self.mtx == other.mtx):\n",
    "                return True\n",
    "            else:\n",
    "                return False\n",
    "        else:\n",
    "            return False\n",
    "\n",
    "    def print(self):\n",
    "        for i in self.mtx:\n",
    "            for j in i:\n",
    "                if isinstance(j, float):\n",
    "                    print(f'{j:f}'.ljust(len(str(np.max(self.mtx)))+2), end='')\n",
    "                else:\n",
    "                    print(f'{j}'.ljust(len(str(np.max(self.mtx)))+1), end='')\n",
    "            print()\n",
    "\n",
    "    def orth(self):\n",
    "        if self.size_mtx[0] == self.size_mtx[1]:\n",
    "            if np.all(self.mtx @ self.mtx.T == np.eye(self.size_mtx[0], dtype='int')):\n",
    "                return True\n",
    "            else:\n",
    "                return False\n",
    "        else:\n",
    "            print(f'Невозможная размерность для совершения операции: {self.size_mtx}')\n",
    "\n",
    "\n",
    "\n",
    "    def rnd_int(self, start, end):\n",
    "        self.mtx = np.random.randint(start, end, self.size_mtx, dtype=np.int)\n",
    "\n",
    "    def trans(self):\n",
    "        return Matrix(mtx= self.mtx.T)\n"
   ],
   "metadata": {
    "collapsed": false,
    "pycharm": {
     "name": "#%%\n"
    }
   }
  },
  {
   "cell_type": "code",
   "execution_count": 91,
   "metadata": {
    "id": "2pSSOQBa9Tqg"
   },
   "outputs": [],
   "source": []
  },
  {
   "cell_type": "code",
   "execution_count": 384,
   "outputs": [],
   "source": [
    "x = Matrix((4,6))\n",
    "y = Matrix((4,6))\n",
    "\n",
    "x.rnd_int(2,8)\n",
    "y.rnd_int(500,10000)"
   ],
   "metadata": {
    "collapsed": false,
    "pycharm": {
     "name": "#%%\n"
    }
   }
  },
  {
   "cell_type": "code",
   "execution_count": 385,
   "outputs": [
    {
     "data": {
      "text/plain": "False"
     },
     "execution_count": 385,
     "metadata": {},
     "output_type": "execute_result"
    }
   ],
   "source": [
    "x == y"
   ],
   "metadata": {
    "collapsed": false,
    "pycharm": {
     "name": "#%%\n"
    }
   }
  },
  {
   "cell_type": "code",
   "execution_count": 386,
   "outputs": [],
   "source": [
    "z = x + y"
   ],
   "metadata": {
    "collapsed": false,
    "pycharm": {
     "name": "#%%\n"
    }
   }
  },
  {
   "cell_type": "code",
   "execution_count": 387,
   "outputs": [
    {
     "name": "stdout",
     "output_type": "stream",
     "text": [
      "[[6 4 4 4 3 6]\n",
      " [7 4 7 3 2 6]\n",
      " [4 5 6 2 2 5]\n",
      " [5 3 4 6 5 2]]\n"
     ]
    }
   ],
   "source": [
    "print(x)"
   ],
   "metadata": {
    "collapsed": false,
    "pycharm": {
     "name": "#%%\n"
    }
   }
  },
  {
   "cell_type": "code",
   "execution_count": 388,
   "outputs": [
    {
     "name": "stdout",
     "output_type": "stream",
     "text": [
      "[[6906 8506 7943 8742 9966 4941]\n",
      " [3222 1363 4276 2293 2461 6374]\n",
      " [1621 9896 4443 8674 2453 1267]\n",
      " [5733 1370 5165 4395 5839 5534]]\n"
     ]
    }
   ],
   "source": [
    "print(y)"
   ],
   "metadata": {
    "collapsed": false,
    "pycharm": {
     "name": "#%%\n"
    }
   }
  },
  {
   "cell_type": "code",
   "execution_count": 389,
   "outputs": [
    {
     "name": "stdout",
     "output_type": "stream",
     "text": [
      "6912 8510 7947 8746 9969 4947 \n",
      "3229 1367 4283 2296 2463 6380 \n",
      "1625 9901 4449 8676 2455 1272 \n",
      "5738 1373 5169 4401 5844 5536 \n"
     ]
    }
   ],
   "source": [
    "z.print()"
   ],
   "metadata": {
    "collapsed": false,
    "pycharm": {
     "name": "#%%4\n"
    }
   }
  },
  {
   "cell_type": "code",
   "execution_count": 390,
   "outputs": [
    {
     "data": {
      "text/plain": "True"
     },
     "execution_count": 390,
     "metadata": {},
     "output_type": "execute_result"
    }
   ],
   "source": [
    "y == z - x"
   ],
   "metadata": {
    "collapsed": false,
    "pycharm": {
     "name": "#%%\n"
    }
   }
  },
  {
   "cell_type": "code",
   "execution_count": 391,
   "outputs": [],
   "source": [
    "a = x * 64"
   ],
   "metadata": {
    "collapsed": false,
    "pycharm": {
     "name": "#%%\n"
    }
   }
  },
  {
   "cell_type": "code",
   "execution_count": 392,
   "outputs": [
    {
     "name": "stdout",
     "output_type": "stream",
     "text": [
      "384 256 256 256 192 384 \n",
      "448 256 448 192 128 384 \n",
      "256 320 384 128 128 320 \n",
      "320 192 256 384 320 128 \n"
     ]
    }
   ],
   "source": [
    "a.print()"
   ],
   "metadata": {
    "collapsed": false,
    "pycharm": {
     "name": "#%%\n"
    }
   }
  },
  {
   "cell_type": "code",
   "execution_count": 393,
   "outputs": [],
   "source": [
    "b = (y - a) * 0.1"
   ],
   "metadata": {
    "collapsed": false,
    "pycharm": {
     "name": "#%%\n"
    }
   }
  },
  {
   "cell_type": "code",
   "execution_count": 394,
   "outputs": [
    {
     "name": "stdout",
     "output_type": "stream",
     "text": [
      "652.200000         825.000000         768.700000         848.600000         977.400000         455.700000         \n",
      "277.400000         110.700000         382.800000         210.100000         233.300000         599.000000         \n",
      "136.500000         957.600000         405.900000         854.600000         232.500000         94.700000          \n",
      "541.300000         117.800000         490.900000         401.100000         551.900000         540.600000         \n"
     ]
    }
   ],
   "source": [
    "b.print()"
   ],
   "metadata": {
    "collapsed": false,
    "pycharm": {
     "name": "#%%\n"
    }
   }
  },
  {
   "cell_type": "code",
   "execution_count": 395,
   "outputs": [
    {
     "data": {
      "text/plain": "[[384 448 256 320]\n [256 256 320 192]\n [256 448 384 256]\n [256 192 128 384]\n [192 128 128 320]\n [384 384 320 128]]"
     },
     "execution_count": 395,
     "metadata": {},
     "output_type": "execute_result"
    }
   ],
   "source": [
    "a.trans()"
   ],
   "metadata": {
    "collapsed": false,
    "pycharm": {
     "name": "#%%\n"
    }
   }
  },
  {
   "cell_type": "code",
   "execution_count": 396,
   "outputs": [],
   "source": [
    "c = b * a.trans()"
   ],
   "metadata": {
    "collapsed": false,
    "pycharm": {
     "name": "#%%\n"
    }
   }
  },
  {
   "cell_type": "code",
   "execution_count": 397,
   "outputs": [
    {
     "name": "stdout",
     "output_type": "stream",
     "text": [
      "1238323.200000      1310790.400000      1105696.000000      1260851.200000      \n",
      "561452.800000       624326.400000       501868.800000       440025.600000       \n",
      "701254.400000       718348.800000       666694.400000       746137.600000       \n",
      "779923.200000       847827.200000       659750.400000       721331.200000       \n"
     ]
    }
   ],
   "source": [
    "c.print()"
   ],
   "metadata": {
    "collapsed": false,
    "pycharm": {
     "name": "#%%\n"
    }
   }
  },
  {
   "cell_type": "code",
   "execution_count": 398,
   "outputs": [
    {
     "data": {
      "text/plain": "False"
     },
     "execution_count": 398,
     "metadata": {},
     "output_type": "execute_result"
    }
   ],
   "source": [
    "c.orth()"
   ],
   "metadata": {
    "collapsed": false,
    "pycharm": {
     "name": "#%%\n"
    }
   }
  },
  {
   "cell_type": "code",
   "execution_count": 399,
   "outputs": [
    {
     "name": "stdout",
     "output_type": "stream",
     "text": [
      "0 0 1 \n",
      "1 0 0 \n",
      "0 1 0 \n"
     ]
    }
   ],
   "source": [
    "d = Matrix(mtx=np.array([[0,0,1],[1,0,0],[0,1,0]]))\n",
    "d.print()"
   ],
   "metadata": {
    "collapsed": false,
    "pycharm": {
     "name": "#%%\n"
    }
   }
  },
  {
   "cell_type": "code",
   "execution_count": 400,
   "outputs": [
    {
     "data": {
      "text/plain": "True"
     },
     "execution_count": 400,
     "metadata": {},
     "output_type": "execute_result"
    }
   ],
   "source": [
    "d.orth()"
   ],
   "metadata": {
    "collapsed": false,
    "pycharm": {
     "name": "#%%\n"
    }
   }
  },
  {
   "cell_type": "code",
   "execution_count": 401,
   "outputs": [],
   "source": [],
   "metadata": {
    "collapsed": false,
    "pycharm": {
     "name": "#%%\n"
    }
   }
  }
 ],
 "metadata": {
  "colab": {
   "name": "OOP-HW.ipynb",
   "provenance": []
  },
  "kernelspec": {
   "display_name": "Python 3",
   "language": "python",
   "name": "python3"
  },
  "language_info": {
   "codemirror_mode": {
    "name": "ipython",
    "version": 3
   },
   "file_extension": ".py",
   "mimetype": "text/x-python",
   "name": "python",
   "nbconvert_exporter": "python",
   "pygments_lexer": "ipython3",
   "version": "3.8.5"
  }
 },
 "nbformat": 4,
 "nbformat_minor": 1
}