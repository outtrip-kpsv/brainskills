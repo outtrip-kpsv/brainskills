{
 "cells": [
  {
   "cell_type": "markdown",
   "metadata": {
    "colab_type": "text",
    "id": "q9crG9W-d4xO"
   },
   "source": [
    "## Внимание! Необходимо использовать функции numpy по-максимуму! И практически никаких циклов! Это практика, просто пытаемся сделать все, что можем.=)\n"
   ]
  },
  {
   "cell_type": "code",
   "execution_count": 1,
   "metadata": {
    "colab": {},
    "colab_type": "code",
    "id": "g0typPULd4xR"
   },
   "outputs": [],
   "source": [
    "import numpy as np"
   ]
  },
  {
   "cell_type": "markdown",
   "metadata": {
    "colab_type": "text",
    "id": "NLP4HCKLd4xe"
   },
   "source": [
    "### 1. Отсортируйте все столбцы по нулевому столбцу:"
   ]
  },
  {
   "cell_type": "markdown",
   "metadata": {},
   "source": [
    "## +"
   ]
  },
  {
   "cell_type": "code",
   "execution_count": 2,
   "metadata": {
    "colab": {},
    "colab_type": "code",
    "id": "Y5Yt-wy7d4xi",
    "outputId": "3e223984-0b87-4b74-dbae-42ebe34a88e8"
   },
   "outputs": [
    {
     "name": "stdout",
     "output_type": "stream",
     "text": [
      "[[3 6 0]\n",
      " [8 9 4]\n",
      " [8 6 4]\n",
      " [4 3 1]\n",
      " [7 5 2]]\n"
     ]
    }
   ],
   "source": [
    "a = np.random.randint(0, 10, (5, 3))\n",
    "print(a)"
   ]
  },
  {
   "cell_type": "code",
   "execution_count": 3,
   "metadata": {
    "colab": {},
    "colab_type": "code",
    "id": "CjCo_Ih-d4xx"
   },
   "outputs": [
    {
     "data": {
      "text/plain": [
       "array([[3, 6, 0],\n",
       "       [4, 3, 1],\n",
       "       [7, 5, 2],\n",
       "       [8, 9, 4],\n",
       "       [8, 6, 4]])"
      ]
     },
     "execution_count": 3,
     "metadata": {},
     "output_type": "execute_result"
    }
   ],
   "source": [
    "# Дописать код здесь\n",
    "a[a[:,0].argsort(),:]"
   ]
  },
  {
   "cell_type": "markdown",
   "metadata": {
    "colab_type": "text",
    "id": "8m3sInbYd4x7"
   },
   "source": [
    "### 2. Найти наиболее частое значение в массиве"
   ]
  },
  {
   "cell_type": "markdown",
   "metadata": {},
   "source": [
    "## +"
   ]
  },
  {
   "cell_type": "code",
   "execution_count": 4,
   "metadata": {
    "colab": {},
    "colab_type": "code",
    "id": "4hK_H3KId4x8",
    "outputId": "07d6e57a-0874-49a6-c99c-8942f7f3b399"
   },
   "outputs": [],
   "source": [
    "# Дописать код здесь\n",
    "b = np.array([0, 4, 2, 3, 2, 0, 0, 4, 5, 2, 8, 4, 7, 0, 4, 2, 0, 3, 4, 6, 0, 2, 1, 8, 9, 5, 9, 2, 7, 7, 1, 5, 6, 1, 9, 1, 9, 0, 7, 0, 8, 5, 6, 9, 6, 9, 2, 1, 8, 7])"
   ]
  },
  {
   "cell_type": "code",
   "execution_count": 5,
   "metadata": {},
   "outputs": [
    {
     "data": {
      "text/plain": [
       "0"
      ]
     },
     "execution_count": 5,
     "metadata": {},
     "output_type": "execute_result"
    }
   ],
   "source": [
    "np.unique(b)[np.argmax(np.bincount(b))]"
   ]
  },
  {
   "cell_type": "markdown",
   "metadata": {},
   "source": [
    "#### -----------"
   ]
  },
  {
   "cell_type": "code",
   "execution_count": 6,
   "metadata": {},
   "outputs": [],
   "source": [
    "arr = np.random.randint(0, 128, 10000, dtype='int8')"
   ]
  },
  {
   "cell_type": "code",
   "execution_count": 7,
   "metadata": {},
   "outputs": [
    {
     "data": {
      "text/plain": [
       "3"
      ]
     },
     "execution_count": 7,
     "metadata": {},
     "output_type": "execute_result"
    }
   ],
   "source": [
    "np.unique(arr)[np.argmax(np.bincount(arr))]"
   ]
  },
  {
   "cell_type": "markdown",
   "metadata": {
    "colab_type": "text",
    "id": "rOiIxDacd4yD"
   },
   "source": [
    "### 3. Даны наборы точек x (`X`) и y (`Y`). Каждый набор описывает прямую i (X[i], Y[i]). Найти расстояние от точки `р` до каждой прямой."
   ]
  },
  {
   "cell_type": "markdown",
   "metadata": {},
   "source": [
    "## +"
   ]
  },
  {
   "cell_type": "code",
   "execution_count": 8,
   "metadata": {
    "colab": {},
    "colab_type": "code",
    "id": "NJm_VY8Cd4yE"
   },
   "outputs": [],
   "source": [
    "def distance(X, Y, p):\n",
    "    ab = np.sqrt((X[:,1]-X[:,0])**2 + (Y[:,1]-Y[:,0])**2)\n",
    "    ac = np.sqrt((X[:,0]-p[0,0])**2 + (Y[:,0]-p[0,1])**2)\n",
    "    bc = np.sqrt((X[:,1]-p[0,0])**2 + (Y[:,1]-p[0,1])**2)\n",
    "    half_p = (ab + bc +ac)/2\n",
    "    h = (2/ab)*(np.sqrt(half_p*((half_p - ab)*(half_p - ac)*(half_p - bc))))\n",
    "    return h"
   ]
  },
  {
   "cell_type": "code",
   "execution_count": 9,
   "metadata": {
    "colab": {},
    "colab_type": "code",
    "id": "jr095ceNd4yL",
    "outputId": "43281023-295f-424f-c32d-6bb3e3009ada"
   },
   "outputs": [
    {
     "name": "stdout",
     "output_type": "stream",
     "text": [
      "[14.43035422  6.0157573   6.56720148  9.74790267  9.56108377 10.29175387\n",
      "  5.16306312  6.40434236  0.18165169  5.96447406]\n"
     ]
    }
   ],
   "source": [
    "X = np.random.uniform(-10,10,(10,2))\n",
    "Y = np.random.uniform(-10,10,(10,2))\n",
    "p  = np.random.uniform(-10,10,( 1,2))\n",
    "print(distance(X, Y, p))"
   ]
  },
  {
   "cell_type": "markdown",
   "metadata": {
    "colab_type": "text",
    "id": "g1CzTImPd4yU"
   },
   "source": [
    "### 4. Найти n наибольших значений в массиве "
   ]
  },
  {
   "cell_type": "markdown",
   "metadata": {},
   "source": [
    "## +"
   ]
  },
  {
   "cell_type": "code",
   "execution_count": 10,
   "metadata": {
    "colab": {},
    "colab_type": "code",
    "id": "YhhgQK8Nd4yW",
    "outputId": "92143d33-8678-46a6-e269-3478489c6faf"
   },
   "outputs": [],
   "source": [
    "Z = np.arange(10000)\n",
    "np.random.shuffle(Z)\n",
    "n = 5"
   ]
  },
  {
   "cell_type": "code",
   "execution_count": 11,
   "metadata": {
    "colab": {},
    "colab_type": "code",
    "id": "O-1Ikjo_d4ye"
   },
   "outputs": [
    {
     "data": {
      "text/plain": [
       "array([9999, 9998, 9997, 9996, 9995])"
      ]
     },
     "execution_count": 11,
     "metadata": {},
     "output_type": "execute_result"
    }
   ],
   "source": [
    "# Дописать код здесь\n",
    "np.sort(Z)[::-1][:n]\n",
    "    "
   ]
  },
  {
   "cell_type": "markdown",
   "metadata": {
    "colab_type": "text",
    "id": "c0Gp00rUd4yl"
   },
   "source": [
    "### 5. Дан двумерный массив. Найти все различные строки"
   ]
  },
  {
   "cell_type": "markdown",
   "metadata": {},
   "source": [
    "## +"
   ]
  },
  {
   "cell_type": "code",
   "execution_count": 12,
   "metadata": {
    "colab": {},
    "colab_type": "code",
    "id": "s9bc0ki7d4ym",
    "outputId": "1dc144ff-387f-460d-ee9d-bd9f2ba7e31e"
   },
   "outputs": [
    {
     "name": "stdout",
     "output_type": "stream",
     "text": [
      "[[0 1 0]\n",
      " [1 1 0]\n",
      " [1 1 1]\n",
      " [1 1 1]\n",
      " [1 0 1]\n",
      " [1 1 1]]\n"
     ]
    }
   ],
   "source": [
    "Z = np.random.randint(0, 2, (6,3))\n",
    "print(Z)"
   ]
  },
  {
   "cell_type": "code",
   "execution_count": 13,
   "metadata": {
    "colab": {},
    "colab_type": "code",
    "id": "meu4meHed4ys",
    "outputId": "ec12123b-d332-47af-f852-57054be87a44"
   },
   "outputs": [
    {
     "data": {
      "text/plain": [
       "array([[0, 1, 0],\n",
       "       [1, 0, 1],\n",
       "       [1, 1, 0],\n",
       "       [1, 1, 1]])"
      ]
     },
     "execution_count": 13,
     "metadata": {},
     "output_type": "execute_result"
    }
   ],
   "source": [
    "# Дописать код здесь\n",
    "np.unique(Z, axis=0)"
   ]
  },
  {
   "cell_type": "markdown",
   "metadata": {
    "colab_type": "text",
    "id": "Ay_3Dljzd4y2"
   },
   "source": [
    "### 6. Разбить массив на убывающие подмассивы.  \n",
    "Подсказка: np.diff()  \n",
    "Используйте библиотеку `numpy`, не используйте циклы."
   ]
  },
  {
   "cell_type": "markdown",
   "metadata": {},
   "source": [
    "## +"
   ]
  },
  {
   "cell_type": "code",
   "execution_count": 14,
   "metadata": {
    "colab": {},
    "colab_type": "code",
    "id": "y-dIqQ74d4y4"
   },
   "outputs": [],
   "source": [
    "# Дописать код здесь\n",
    "arr = np.random.randint(1,220,50)"
   ]
  },
  {
   "cell_type": "code",
   "execution_count": 15,
   "metadata": {},
   "outputs": [
    {
     "data": {
      "text/plain": [
       "[array([132, 125,  74,  69,  33]),\n",
       " array([197,  33]),\n",
       " array([203, 198,  68]),\n",
       " array([122,  95,  22,   9]),\n",
       " array([208, 202,   6]),\n",
       " array([80]),\n",
       " array([99]),\n",
       " array([214, 183]),\n",
       " array([193, 171, 119]),\n",
       " array([208,  37]),\n",
       " array([111,  42]),\n",
       " array([127]),\n",
       " array([176]),\n",
       " array([200, 143,  26]),\n",
       " array([87]),\n",
       " array([204,  44]),\n",
       " array([96]),\n",
       " array([132,  82]),\n",
       " array([145,  26]),\n",
       " array([118]),\n",
       " array([132,  96,  55]),\n",
       " array([125]),\n",
       " array([160,  36]),\n",
       " array([201, 153])]"
      ]
     },
     "execution_count": 15,
     "metadata": {},
     "output_type": "execute_result"
    }
   ],
   "source": [
    "np.split(arr, np.where( np.diff(arr) > 0 )[0]+1)"
   ]
  },
  {
   "cell_type": "markdown",
   "metadata": {
    "colab_type": "text",
    "id": "5AaiqdPgd4y_"
   },
   "source": [
    "### 7. Дан массив arr, необходимо найти среднее значение внутри групп, группа определена массивом g. \n",
    "Например, для  \n",
    "`arr = [4, 2, 1, 5, 2, 5, 1, 3]` и   \n",
    "`g =   [0, 1, 1, 0, 1, 0, 1, 0]` (4 относится к группе 0, 2 к группе 1 и т. д.)   \n",
    "Средние по группам: `[4.25, 1.5]`  \n",
    "Подсказка: `np.bincount()`   \n",
    "Используйте библиотеку `numpy`, не используйте циклы."
   ]
  },
  {
   "cell_type": "markdown",
   "metadata": {},
   "source": [
    "## +"
   ]
  },
  {
   "cell_type": "code",
   "execution_count": 16,
   "metadata": {
    "colab": {},
    "colab_type": "code",
    "id": "cHPXUQyjd4zA"
   },
   "outputs": [],
   "source": [
    "# Дописать код здесь\n",
    "arr = [4, 2, 1, 5, 2, 5, 1, 3]\n",
    "g =   [0, 1, 1, 0, 1, 0, 1, 0]"
   ]
  },
  {
   "cell_type": "code",
   "execution_count": 17,
   "metadata": {},
   "outputs": [
    {
     "data": {
      "text/plain": [
       "array([4.25, 1.5 ])"
      ]
     },
     "execution_count": 17,
     "metadata": {},
     "output_type": "execute_result"
    }
   ],
   "source": [
    "np.bincount(g, arr) / np.bincount(g)"
   ]
  },
  {
   "cell_type": "markdown",
   "metadata": {
    "colab_type": "text",
    "id": "pfwkxMtJd4zG"
   },
   "source": [
    "### 8. Перемножить две квадратные матрицы двумя способами -- без использования пакета numpy и с ним. Сравнить время вычислений\n",
    "\n"
   ]
  },
  {
   "cell_type": "markdown",
   "metadata": {},
   "source": [
    "## +"
   ]
  },
  {
   "cell_type": "code",
   "execution_count": 18,
   "metadata": {},
   "outputs": [],
   "source": [
    "from random import randint"
   ]
  },
  {
   "cell_type": "code",
   "execution_count": 19,
   "metadata": {
    "colab": {},
    "colab_type": "code",
    "id": "tuzym13_d4zI"
   },
   "outputs": [],
   "source": [
    "n = 10\n",
    "\n",
    "list_1 = [[randint(1,10) for i in range(0,n)] for j in range(0,n)]\n",
    "list_2 = [[randint(1,10) for i in range(0,n)] for j in range(0,n)]\n",
    "\n",
    "arr_1 = np.asarray(list_1)\n",
    "arr_2 = np.asarray(list_2)"
   ]
  },
  {
   "cell_type": "code",
   "execution_count": 20,
   "metadata": {},
   "outputs": [
    {
     "data": {
      "text/plain": [
       "array([[ 8,  7,  4,  5,  3,  6,  3,  6,  5,  6],\n",
       "       [ 3,  6,  8, 10,  4, 10,  1, 10,  2,  8],\n",
       "       [ 6, 10, 10,  3,  7,  3, 10,  3,  6,  3],\n",
       "       [ 3, 10,  9,  1,  3,  3,  3,  6,  1,  8],\n",
       "       [ 5,  9,  9,  7,  5,  2,  9,  5,  6,  6],\n",
       "       [ 7,  6,  9,  8,  1,  1,  4,  1,  6,  6],\n",
       "       [10, 10,  6,  4,  5,  7,  7,  7,  8,  1],\n",
       "       [ 1,  5,  4,  7, 10,  5,  1,  2,  4,  6],\n",
       "       [ 3,  1,  9,  3, 10, 10,  1,  5,  7,  3],\n",
       "       [ 2,  7,  5,  8,  7,  7,  7,  2,  2,  9]])"
      ]
     },
     "execution_count": 20,
     "metadata": {},
     "output_type": "execute_result"
    }
   ],
   "source": [
    "arr_1"
   ]
  },
  {
   "cell_type": "code",
   "execution_count": 21,
   "metadata": {},
   "outputs": [
    {
     "data": {
      "text/plain": [
       "array([[ 8,  1,  4,  3, 10,  7,  6,  7,  1,  2],\n",
       "       [10,  8,  8,  8,  1, 10,  1,  4,  1,  5],\n",
       "       [ 1,  7,  3,  1, 10,  7,  8,  9,  3,  8],\n",
       "       [ 9,  3,  6,  6,  9,  8,  1,  7,  8,  9],\n",
       "       [ 5,  6,  2,  6,  6,  9,  9,  3,  5,  4],\n",
       "       [10,  1, 10,  1,  2,  3,  4,  2, 10,  4],\n",
       "       [ 7,  3,  1, 10,  2,  3,  3,  1,  2,  8],\n",
       "       [ 1, 10,  8,  9,  8,  5,  7,  6,  1,  5],\n",
       "       [ 3,  1,  7,  7,  1, 10,  5,  6,  9,  2],\n",
       "       [ 5,  1,  9,  1,  4,  2, 10,  4,  1,  4]])"
      ]
     },
     "execution_count": 21,
     "metadata": {},
     "output_type": "execute_result"
    }
   ],
   "source": [
    "arr_2"
   ]
  },
  {
   "cell_type": "code",
   "execution_count": 22,
   "metadata": {},
   "outputs": [
    {
     "name": "stdout",
     "output_type": "stream",
     "text": [
      "4.52 µs ± 370 ns per loop (mean ± std. dev. of 7 runs, 100000 loops each)\n"
     ]
    }
   ],
   "source": [
    "%timeit arr_1 @ arr_2"
   ]
  },
  {
   "cell_type": "code",
   "execution_count": 23,
   "metadata": {},
   "outputs": [
    {
     "name": "stdout",
     "output_type": "stream",
     "text": [
      "442 µs ± 21.4 µs per loop (mean ± std. dev. of 7 runs, 1000 loops each)\n"
     ]
    }
   ],
   "source": [
    "%timeit [[sum([l1[ind2] * l2[ind3] for ind2, l2 in enumerate(list_2)]) for ind3 in range(0, len(list_1))] for l1 in list_1]"
   ]
  },
  {
   "cell_type": "code",
   "execution_count": 24,
   "metadata": {},
   "outputs": [
    {
     "data": {
      "text/plain": [
       "array([[330, 211, 336, 263, 285, 340, 279, 269, 205, 252],\n",
       "       [365, 284, 419, 281, 366, 372, 337, 324, 271, 340],\n",
       "       [356, 279, 299, 343, 307, 419, 315, 296, 215, 328],\n",
       "       [257, 248, 291, 224, 250, 293, 276, 241, 122, 249],\n",
       "       [363, 282, 336, 353, 334, 419, 323, 319, 225, 351],\n",
       "       [289, 183, 271, 230, 292, 337, 250, 285, 188, 269],\n",
       "       [402, 281, 370, 367, 332, 448, 315, 322, 259, 313],\n",
       "       [276, 188, 267, 216, 234, 311, 257, 213, 220, 232],\n",
       "       [268, 216, 302, 221, 289, 342, 327, 262, 278, 249],\n",
       "       [370, 218, 329, 275, 273, 336, 293, 245, 236, 313]])"
      ]
     },
     "execution_count": 24,
     "metadata": {},
     "output_type": "execute_result"
    }
   ],
   "source": [
    "arr_1 @ arr_2"
   ]
  },
  {
   "cell_type": "code",
   "execution_count": 25,
   "metadata": {},
   "outputs": [
    {
     "data": {
      "text/plain": [
       "[[330, 211, 336, 263, 285, 340, 279, 269, 205, 252],\n",
       " [365, 284, 419, 281, 366, 372, 337, 324, 271, 340],\n",
       " [356, 279, 299, 343, 307, 419, 315, 296, 215, 328],\n",
       " [257, 248, 291, 224, 250, 293, 276, 241, 122, 249],\n",
       " [363, 282, 336, 353, 334, 419, 323, 319, 225, 351],\n",
       " [289, 183, 271, 230, 292, 337, 250, 285, 188, 269],\n",
       " [402, 281, 370, 367, 332, 448, 315, 322, 259, 313],\n",
       " [276, 188, 267, 216, 234, 311, 257, 213, 220, 232],\n",
       " [268, 216, 302, 221, 289, 342, 327, 262, 278, 249],\n",
       " [370, 218, 329, 275, 273, 336, 293, 245, 236, 313]]"
      ]
     },
     "execution_count": 25,
     "metadata": {},
     "output_type": "execute_result"
    }
   ],
   "source": [
    "[[sum([l1[ind2] * l2[ind3] for ind2, l2 in enumerate(list_2)]) for ind3 in range(0, len(list_1))] for l1 in list_1]"
   ]
  },
  {
   "cell_type": "markdown",
   "metadata": {
    "colab_type": "text",
    "id": "UGzAYfTQd4zN"
   },
   "source": [
    "### 9. Написать функцию, которая по данной последовательности $\\{A_i\\}_{i=1}^n$ строит последовательность $S_n$, где $S_k = \\frac{A_1 + ... + A_k}{k}$.  \n",
    "Аналогично -- с помощью библиотеки **NumPy** и без нее. Сравните скорость."
   ]
  },
  {
   "cell_type": "markdown",
   "metadata": {},
   "source": [
    "## +"
   ]
  },
  {
   "cell_type": "code",
   "execution_count": 26,
   "metadata": {
    "colab": {},
    "colab_type": "code",
    "id": "tMRP_Ow0d4zP"
   },
   "outputs": [],
   "source": [
    "# Дописать код здесь\n",
    "def s_n(arr):\n",
    "    return [(sum(arr[:idx+1])/(idx+1)) for idx, i in enumerate(arr)]\n"
   ]
  },
  {
   "cell_type": "code",
   "execution_count": 27,
   "metadata": {},
   "outputs": [],
   "source": [
    "from random import randint"
   ]
  },
  {
   "cell_type": "code",
   "execution_count": 28,
   "metadata": {},
   "outputs": [],
   "source": [
    "n = 100\n",
    "arr_list = [randint(1,100) for _ in range(0, n)]\n",
    "arr_numpy = np.array(arr_list)"
   ]
  },
  {
   "cell_type": "code",
   "execution_count": 29,
   "metadata": {},
   "outputs": [
    {
     "data": {
      "text/plain": [
       "[67.0,\n",
       " 55.0,\n",
       " 54.666666666666664,\n",
       " 51.75,\n",
       " 59.2,\n",
       " 58.5,\n",
       " 63.142857142857146,\n",
       " 60.75,\n",
       " 56.666666666666664,\n",
       " 57.6,\n",
       " 54.18181818181818,\n",
       " 54.416666666666664,\n",
       " 54.30769230769231,\n",
       " 51.5,\n",
       " 52.6,\n",
       " 52.4375,\n",
       " 54.11764705882353,\n",
       " 54.166666666666664,\n",
       " 54.8421052631579,\n",
       " 52.9,\n",
       " 52.95238095238095,\n",
       " 53.27272727272727,\n",
       " 53.17391304347826,\n",
       " 52.666666666666664,\n",
       " 52.84,\n",
       " 52.30769230769231,\n",
       " 53.48148148148148,\n",
       " 51.92857142857143,\n",
       " 50.96551724137931,\n",
       " 52.03333333333333,\n",
       " 52.935483870967744,\n",
       " 53.5625,\n",
       " 53.81818181818182,\n",
       " 53.705882352941174,\n",
       " 53.857142857142854,\n",
       " 54.861111111111114,\n",
       " 56.08108108108108,\n",
       " 54.78947368421053,\n",
       " 54.743589743589745,\n",
       " 55.475,\n",
       " 55.21951219512195,\n",
       " 55.73809523809524,\n",
       " 54.674418604651166,\n",
       " 53.68181818181818,\n",
       " 53.77777777777778,\n",
       " 54.73913043478261,\n",
       " 54.08510638297872,\n",
       " 54.458333333333336,\n",
       " 55.204081632653065,\n",
       " 55.3,\n",
       " 54.27450980392157,\n",
       " 54.09615384615385,\n",
       " 54.056603773584904,\n",
       " 54.48148148148148,\n",
       " 54.50909090909091,\n",
       " 54.75,\n",
       " 54.54385964912281,\n",
       " 55.293103448275865,\n",
       " 54.779661016949156,\n",
       " 53.96666666666667,\n",
       " 53.967213114754095,\n",
       " 54.596774193548384,\n",
       " 54.23809523809524,\n",
       " 54.203125,\n",
       " 54.38461538461539,\n",
       " 53.803030303030305,\n",
       " 54.43283582089552,\n",
       " 54.779411764705884,\n",
       " 55.08695652173913,\n",
       " 54.31428571428572,\n",
       " 53.859154929577464,\n",
       " 53.986111111111114,\n",
       " 53.26027397260274,\n",
       " 53.5945945945946,\n",
       " 54.17333333333333,\n",
       " 54.01315789473684,\n",
       " 53.896103896103895,\n",
       " 54.32051282051282,\n",
       " 53.962025316455694,\n",
       " 53.7375,\n",
       " 54.148148148148145,\n",
       " 54.390243902439025,\n",
       " 54.0722891566265,\n",
       " 54.083333333333336,\n",
       " 53.588235294117645,\n",
       " 53.104651162790695,\n",
       " 53.48275862068966,\n",
       " 53.19318181818182,\n",
       " 53.39325842696629,\n",
       " 53.58888888888889,\n",
       " 53.69230769230769,\n",
       " 53.869565217391305,\n",
       " 53.623655913978496,\n",
       " 53.07446808510638,\n",
       " 53.27368421052632,\n",
       " 53.364583333333336,\n",
       " 53.50515463917526,\n",
       " 53.01020408163265,\n",
       " 52.56565656565657,\n",
       " 52.07]"
      ]
     },
     "execution_count": 29,
     "metadata": {},
     "output_type": "execute_result"
    }
   ],
   "source": [
    "s_n(arr_list)"
   ]
  },
  {
   "cell_type": "code",
   "execution_count": 30,
   "metadata": {},
   "outputs": [
    {
     "data": {
      "text/plain": [
       "array([67.        , 55.        , 54.66666667, 51.75      , 59.2       ,\n",
       "       58.5       , 63.14285714, 60.75      , 56.66666667, 57.6       ,\n",
       "       54.18181818, 54.41666667, 54.30769231, 51.5       , 52.6       ,\n",
       "       52.4375    , 54.11764706, 54.16666667, 54.84210526, 52.9       ,\n",
       "       52.95238095, 53.27272727, 53.17391304, 52.66666667, 52.84      ,\n",
       "       52.30769231, 53.48148148, 51.92857143, 50.96551724, 52.03333333,\n",
       "       52.93548387, 53.5625    , 53.81818182, 53.70588235, 53.85714286,\n",
       "       54.86111111, 56.08108108, 54.78947368, 54.74358974, 55.475     ,\n",
       "       55.2195122 , 55.73809524, 54.6744186 , 53.68181818, 53.77777778,\n",
       "       54.73913043, 54.08510638, 54.45833333, 55.20408163, 55.3       ,\n",
       "       54.2745098 , 54.09615385, 54.05660377, 54.48148148, 54.50909091,\n",
       "       54.75      , 54.54385965, 55.29310345, 54.77966102, 53.96666667,\n",
       "       53.96721311, 54.59677419, 54.23809524, 54.203125  , 54.38461538,\n",
       "       53.8030303 , 54.43283582, 54.77941176, 55.08695652, 54.31428571,\n",
       "       53.85915493, 53.98611111, 53.26027397, 53.59459459, 54.17333333,\n",
       "       54.01315789, 53.8961039 , 54.32051282, 53.96202532, 53.7375    ,\n",
       "       54.14814815, 54.3902439 , 54.07228916, 54.08333333, 53.58823529,\n",
       "       53.10465116, 53.48275862, 53.19318182, 53.39325843, 53.58888889,\n",
       "       53.69230769, 53.86956522, 53.62365591, 53.07446809, 53.27368421,\n",
       "       53.36458333, 53.50515464, 53.01020408, 52.56565657, 52.07      ])"
      ]
     },
     "execution_count": 30,
     "metadata": {},
     "output_type": "execute_result"
    }
   ],
   "source": [
    "np.cumsum(arr_numpy)/np.arange(1,np.size(arr_numpy)+1)"
   ]
  },
  {
   "cell_type": "code",
   "execution_count": 31,
   "metadata": {},
   "outputs": [
    {
     "name": "stdout",
     "output_type": "stream",
     "text": [
      "13.8 µs ± 599 ns per loop (mean ± std. dev. of 7 runs, 100000 loops each)\n"
     ]
    }
   ],
   "source": [
    "%timeit np.cumsum(arr_numpy)/np.arange(1,np.size(arr_numpy)+1)"
   ]
  },
  {
   "cell_type": "code",
   "execution_count": 32,
   "metadata": {},
   "outputs": [
    {
     "name": "stdout",
     "output_type": "stream",
     "text": [
      "159 µs ± 15.1 µs per loop (mean ± std. dev. of 7 runs, 1000 loops each)\n"
     ]
    }
   ],
   "source": [
    "%timeit s_n(arr_list)"
   ]
  },
  {
   "cell_type": "markdown",
   "metadata": {
    "colab_type": "text",
    "id": "5pHzmeBud4zX"
   },
   "source": [
    "### 10. Пусть задан некоторый массив  𝑋 . Заменить все элементы с нечетными индексами на число  𝑎  (если оно не указано, то на 1), четные - возвести в куб и записать в обратном порядке на те же позиции. Массив  𝑋  при этом должен остаться без изменений. В конце требуется слить массив X с преобразованным X.\n",
    "\n",
    "Пример:\n",
    "X = [100, 200, 300, 400, 500] -> [100, a, 300, a, 500] -> [500^3, a, 300^3, a, 100^3] -> склеиваем -> [100, 200, 300, 400, 500, 500^3, a, 300^3, a, 100^3]"
   ]
  },
  {
   "cell_type": "markdown",
   "metadata": {},
   "source": [
    "## +"
   ]
  },
  {
   "cell_type": "code",
   "execution_count": 33,
   "metadata": {
    "colab": {},
    "colab_type": "code",
    "id": "syU096Ryd4zZ"
   },
   "outputs": [],
   "source": [
    "# Дописать код здесь\n",
    "x = [100, 200, 300, 400, 500]\n",
    "x_copy = np.copy(x)"
   ]
  },
  {
   "cell_type": "code",
   "execution_count": 34,
   "metadata": {},
   "outputs": [],
   "source": [
    "a = None"
   ]
  },
  {
   "cell_type": "code",
   "execution_count": 35,
   "metadata": {},
   "outputs": [],
   "source": [
    "x_copy[::2] = x_copy[::-2]**3"
   ]
  },
  {
   "cell_type": "code",
   "execution_count": 36,
   "metadata": {},
   "outputs": [],
   "source": [
    "x_copy[1::2] = a if a is not None else 1"
   ]
  },
  {
   "cell_type": "code",
   "execution_count": 37,
   "metadata": {},
   "outputs": [
    {
     "data": {
      "text/plain": [
       "array([      100,       200,       300,       400,       500, 125000000,\n",
       "               1,  27000000,         1,   1000000])"
      ]
     },
     "execution_count": 37,
     "metadata": {},
     "output_type": "execute_result"
    }
   ],
   "source": [
    "np.hstack((x,x_copy))"
   ]
  },
  {
   "cell_type": "markdown",
   "metadata": {
    "colab_type": "text",
    "id": "6wDnkyWTd4zf"
   },
   "source": [
    "### 11. Вам подаются на вход два вектора `a` и `b` в трехмерном пространстве.Заполните их случайными числами. Реализуйте их скалярное произведение с помощью  `NumPy` и без. Засеките время работы, как это показано в заданиях выше."
   ]
  },
  {
   "cell_type": "markdown",
   "metadata": {},
   "source": [
    "## +"
   ]
  },
  {
   "cell_type": "code",
   "execution_count": 38,
   "metadata": {
    "colab": {},
    "colab_type": "code",
    "id": "LKwU6XM3d4zg"
   },
   "outputs": [],
   "source": [
    "# Дописать код здесь\n",
    "from random import randint"
   ]
  },
  {
   "cell_type": "code",
   "execution_count": 39,
   "metadata": {},
   "outputs": [],
   "source": [
    "a = [randint(1,100) for _ in range(0, 3)]\n",
    "b = [randint(1,100) for _ in range(0, 3)]\n",
    "arr_a = np.array(a) \n",
    "arr_b = np.array(b)"
   ]
  },
  {
   "cell_type": "code",
   "execution_count": 40,
   "metadata": {},
   "outputs": [
    {
     "data": {
      "text/plain": [
       "11450"
      ]
     },
     "execution_count": 40,
     "metadata": {},
     "output_type": "execute_result"
    }
   ],
   "source": [
    "arr_a @ arr_b"
   ]
  },
  {
   "cell_type": "code",
   "execution_count": 41,
   "metadata": {},
   "outputs": [
    {
     "data": {
      "text/plain": [
       "11450"
      ]
     },
     "execution_count": 41,
     "metadata": {},
     "output_type": "execute_result"
    }
   ],
   "source": [
    "sum([x*y for x,y in zip(a,b)])"
   ]
  },
  {
   "cell_type": "code",
   "execution_count": 42,
   "metadata": {},
   "outputs": [
    {
     "name": "stdout",
     "output_type": "stream",
     "text": [
      "2.67 µs ± 113 ns per loop (mean ± std. dev. of 7 runs, 100000 loops each)\n"
     ]
    }
   ],
   "source": [
    "%timeit arr_a @ arr_b"
   ]
  },
  {
   "cell_type": "code",
   "execution_count": 43,
   "metadata": {},
   "outputs": [
    {
     "name": "stdout",
     "output_type": "stream",
     "text": [
      "1.52 µs ± 27.3 ns per loop (mean ± std. dev. of 7 runs, 1000000 loops each)\n"
     ]
    }
   ],
   "source": [
    "%timeit sum([x*y for x,y in zip(a,b)])"
   ]
  },
  {
   "cell_type": "markdown",
   "metadata": {
    "colab_type": "text",
    "id": "gl_eE-H8d4zr"
   },
   "source": [
    "### 12. Написать решето Эратосфена с Numpy. Минимум циклов!"
   ]
  },
  {
   "cell_type": "markdown",
   "metadata": {},
   "source": [
    "## +"
   ]
  },
  {
   "cell_type": "code",
   "execution_count": 44,
   "metadata": {
    "colab": {},
    "colab_type": "code",
    "id": "g3rg2tIsd4zs"
   },
   "outputs": [],
   "source": [
    "# Дописать код здесь\n",
    "n = 100\n",
    "arr = np.arange(2,n)"
   ]
  },
  {
   "cell_type": "code",
   "execution_count": 45,
   "metadata": {},
   "outputs": [],
   "source": [
    "for i in range(0, np.size(arr)):\n",
    "    arr[np.argwhere(arr % arr[i] == 0)[i + 1:] if arr[i] != 0 else 2] = 0\n"
   ]
  },
  {
   "cell_type": "code",
   "execution_count": 46,
   "metadata": {},
   "outputs": [
    {
     "data": {
      "text/plain": [
       "array([ 2,  3,  5,  7, 11, 13, 17, 19, 23, 29, 31, 37, 41, 43, 47, 53, 59,\n",
       "       61, 67, 71, 73, 79, 83, 89, 97])"
      ]
     },
     "execution_count": 46,
     "metadata": {},
     "output_type": "execute_result"
    }
   ],
   "source": [
    "arr[arr!=0]"
   ]
  },
  {
   "cell_type": "code",
   "execution_count": 47,
   "metadata": {},
   "outputs": [
    {
     "data": {
      "text/plain": [
       "array([ 2,  3,  0,  5,  0,  7,  0,  0,  0, 11,  0, 13,  0,  0,  0, 17,  0,\n",
       "       19,  0,  0,  0, 23,  0,  0,  0,  0,  0, 29,  0, 31,  0,  0,  0,  0,\n",
       "        0, 37,  0,  0,  0, 41,  0, 43,  0,  0,  0, 47,  0,  0,  0,  0,  0,\n",
       "       53,  0,  0,  0,  0,  0, 59,  0, 61,  0,  0,  0,  0,  0, 67,  0,  0,\n",
       "        0, 71,  0, 73,  0,  0,  0,  0,  0, 79,  0,  0,  0, 83,  0,  0,  0,\n",
       "        0,  0, 89,  0,  0,  0,  0,  0,  0,  0, 97,  0,  0])"
      ]
     },
     "execution_count": 47,
     "metadata": {},
     "output_type": "execute_result"
    }
   ],
   "source": [
    "arr"
   ]
  },
  {
   "cell_type": "markdown",
   "metadata": {
    "colab_type": "text",
    "id": "nS59Uo3Zd4z4"
   },
   "source": [
    "###  13. Реализовать кодирование длин серий (Run-length encoding). Дан вектор x. Необходимо вернуть кортеж из двух векторов одинаковой длины. Первый содержит числа, а второй - сколько раз их нужно повторить.\n",
    "Пример: x = np.array([2, 2, 2, 3, 3, 3, 5]). Ответ: (np.array([2, 3, 5]), np.array([3, 3, 1]))."
   ]
  },
  {
   "cell_type": "markdown",
   "metadata": {},
   "source": [
    "## +"
   ]
  },
  {
   "cell_type": "code",
   "execution_count": 48,
   "metadata": {
    "colab": {},
    "colab_type": "code",
    "id": "5yWQrmRvd4z5"
   },
   "outputs": [],
   "source": [
    "# Дописать код здесь\n",
    "x = np.array([2, 2, 2, 3, 3, 3, 5])"
   ]
  },
  {
   "cell_type": "code",
   "execution_count": 49,
   "metadata": {},
   "outputs": [
    {
     "data": {
      "text/plain": [
       "(array([2, 3, 5]), array([3, 3, 1], dtype=int64))"
      ]
     },
     "execution_count": 49,
     "metadata": {},
     "output_type": "execute_result"
    }
   ],
   "source": [
    "np.unique(x, return_counts=True)"
   ]
  },
  {
   "cell_type": "markdown",
   "metadata": {},
   "source": [
    "## -----------------------------------------"
   ]
  },
  {
   "cell_type": "code",
   "execution_count": 50,
   "metadata": {},
   "outputs": [],
   "source": [
    "y = np.array([1, 1, 1, 1, 7, 2, 2, 8, 8, 8, 1, 1, 3, 3, 3])"
   ]
  },
  {
   "cell_type": "code",
   "execution_count": 51,
   "metadata": {},
   "outputs": [],
   "source": [
    "num = y[np.concatenate((np.array([True]), np.diff(y).astype(np.bool)))]\n",
    "mask_to_count = np.concatenate((np.array([True]), np.diff(y).astype(np.bool), (np.array([True]))))\n",
    "num_rep = np.diff(np.arange(0, np.size(y) + 1)[mask_to_count == True])"
   ]
  },
  {
   "cell_type": "code",
   "execution_count": 52,
   "metadata": {},
   "outputs": [
    {
     "data": {
      "text/plain": [
       "(array([1, 7, 2, 8, 1, 3]), array([4, 1, 2, 3, 2, 3]))"
      ]
     },
     "execution_count": 52,
     "metadata": {},
     "output_type": "execute_result"
    }
   ],
   "source": [
    "(num, num_rep)"
   ]
  },
  {
   "cell_type": "markdown",
   "metadata": {
    "colab_type": "text",
    "id": "xf_CSuSid4z-"
   },
   "source": [
    "### 14. Найти максимальный элемент в векторе x среди элементов, перед которыми стоит нулевой. \n",
    "Для x = np.array([6, 2, 0, 3, 0, 0, 5, 7, 0]) ответ 5"
   ]
  },
  {
   "cell_type": "markdown",
   "metadata": {},
   "source": [
    "## +"
   ]
  },
  {
   "cell_type": "code",
   "execution_count": 53,
   "metadata": {
    "colab": {},
    "colab_type": "code",
    "id": "ypoSnp8Ld40A"
   },
   "outputs": [],
   "source": [
    "# Дописать код здесь\n",
    "x = np.array([6, 2, 0, 3, 0, 0, 5, 7, 0])"
   ]
  },
  {
   "cell_type": "code",
   "execution_count": 54,
   "metadata": {},
   "outputs": [
    {
     "data": {
      "text/plain": [
       "5"
      ]
     },
     "execution_count": 54,
     "metadata": {},
     "output_type": "execute_result"
    }
   ],
   "source": [
    "x[1:][(x==0)[:-1]].max()"
   ]
  },
  {
   "cell_type": "markdown",
   "metadata": {
    "colab_type": "text",
    "id": "I4Xl_IsBd40G"
   },
   "source": [
    "### 15. Перетасовать колоду карт, вычислить вероятность выпадения: красной карты; туза; черного валета или шестерки (все - в Python). Подкрепить это экспериментами, сделать выводы"
   ]
  },
  {
   "cell_type": "markdown",
   "metadata": {},
   "source": [
    "## +"
   ]
  },
  {
   "cell_type": "code",
   "execution_count": 55,
   "metadata": {
    "colab": {},
    "colab_type": "code",
    "id": "u0y18qx2d40H"
   },
   "outputs": [],
   "source": [
    "# Дописать код здесь\n",
    "card_names = ['6','7','8','9','10','J','D','K','A']\n",
    "card_suit = ['♠', '♡', '♣', '♢']\n",
    "deck = np.array([[y,x, 'red' if x =='♡' or x =='♢' else 'black'] for y in card_names for x in card_suit ])"
   ]
  },
  {
   "cell_type": "code",
   "execution_count": 56,
   "metadata": {},
   "outputs": [
    {
     "data": {
      "text/plain": [
       "array([['6', '♠', 'black'],\n",
       "       ['6', '♡', 'red'],\n",
       "       ['6', '♣', 'black'],\n",
       "       ['6', '♢', 'red'],\n",
       "       ['7', '♠', 'black'],\n",
       "       ['7', '♡', 'red'],\n",
       "       ['7', '♣', 'black'],\n",
       "       ['7', '♢', 'red'],\n",
       "       ['8', '♠', 'black'],\n",
       "       ['8', '♡', 'red'],\n",
       "       ['8', '♣', 'black'],\n",
       "       ['8', '♢', 'red'],\n",
       "       ['9', '♠', 'black'],\n",
       "       ['9', '♡', 'red'],\n",
       "       ['9', '♣', 'black'],\n",
       "       ['9', '♢', 'red'],\n",
       "       ['10', '♠', 'black'],\n",
       "       ['10', '♡', 'red'],\n",
       "       ['10', '♣', 'black'],\n",
       "       ['10', '♢', 'red'],\n",
       "       ['J', '♠', 'black'],\n",
       "       ['J', '♡', 'red'],\n",
       "       ['J', '♣', 'black'],\n",
       "       ['J', '♢', 'red'],\n",
       "       ['D', '♠', 'black'],\n",
       "       ['D', '♡', 'red'],\n",
       "       ['D', '♣', 'black'],\n",
       "       ['D', '♢', 'red'],\n",
       "       ['K', '♠', 'black'],\n",
       "       ['K', '♡', 'red'],\n",
       "       ['K', '♣', 'black'],\n",
       "       ['K', '♢', 'red'],\n",
       "       ['A', '♠', 'black'],\n",
       "       ['A', '♡', 'red'],\n",
       "       ['A', '♣', 'black'],\n",
       "       ['A', '♢', 'red']], dtype='<U5')"
      ]
     },
     "execution_count": 56,
     "metadata": {},
     "output_type": "execute_result"
    }
   ],
   "source": [
    "deck"
   ]
  },
  {
   "cell_type": "code",
   "execution_count": 57,
   "metadata": {},
   "outputs": [],
   "source": [
    "n = 100000\n",
    "indx = np.random.randint(36, size=n)\n",
    "rand_card = deck[indx,:]"
   ]
  },
  {
   "cell_type": "code",
   "execution_count": 58,
   "metadata": {},
   "outputs": [
    {
     "data": {
      "text/plain": [
       "array([17, 15, 29, ..., 16, 22, 32])"
      ]
     },
     "execution_count": 58,
     "metadata": {},
     "output_type": "execute_result"
    }
   ],
   "source": [
    "indx"
   ]
  },
  {
   "cell_type": "code",
   "execution_count": 59,
   "metadata": {},
   "outputs": [
    {
     "data": {
      "text/plain": [
       "array([['10', '♡', 'red'],\n",
       "       ['9', '♢', 'red'],\n",
       "       ['K', '♡', 'red'],\n",
       "       ...,\n",
       "       ['10', '♠', 'black'],\n",
       "       ['J', '♣', 'black'],\n",
       "       ['A', '♠', 'black']], dtype='<U5')"
      ]
     },
     "execution_count": 59,
     "metadata": {},
     "output_type": "execute_result"
    }
   ],
   "source": [
    "rand_card"
   ]
  },
  {
   "cell_type": "code",
   "execution_count": 60,
   "metadata": {},
   "outputs": [],
   "source": [
    "red_chance = (np.size(rand_card[rand_card[:,2] == 'red'])/3) / n\n",
    "ace_chance = (np.size(rand_card[rand_card[:,0] == 'A'])/3) / n\n",
    "black_jack_chance = (np.size(rand_card[(rand_card[:,0] == 'J') & (rand_card[:,2] == 'black')])/3) / n\n",
    "six_chance = (np.size(rand_card[rand_card[:,0] == '6'])/3) / n"
   ]
  },
  {
   "cell_type": "code",
   "execution_count": 61,
   "metadata": {},
   "outputs": [
    {
     "name": "stdout",
     "output_type": "stream",
     "text": [
      "сделано 100000 попыток \n",
      " Шанс выпадения красной карты\t\t49.867000% \n",
      " Шанс выпадения карты \"туз\" \t\t11.316000%\n",
      " Шанс выпадения черной карты \"валет\" \t5.624000%\n",
      " Шанс выпадения карты \"шесть\"\t\t10.937000%\n"
     ]
    }
   ],
   "source": [
    "print('сделано {} попыток \\n Шанс выпадения красной карты\\t\\t{:%} \\n Шанс выпадения карты \"туз\" \\t\\t{:%}\\n Шанс выпадения черной карты \"валет\" \\t{:%}\\n Шанс выпадения карты \"шесть\"\\t\\t{:%}'.format(n, red_chance, ace_chance, black_jack_chance, six_chance))"
   ]
  },
  {
   "cell_type": "markdown",
   "metadata": {
    "colab_type": "text",
    "id": "upFJ7FaOd40M"
   },
   "source": [
    "### 16. Дана матрица X и два вектора одинаковой длины i и j. Построить вектор np.array([X[i[0], j[0]], X[i[1], j[1]], . . . , X[i[N-1], j[N-1]]])."
   ]
  },
  {
   "cell_type": "markdown",
   "metadata": {},
   "source": [
    "## +"
   ]
  },
  {
   "cell_type": "code",
   "execution_count": 62,
   "metadata": {
    "colab": {},
    "colab_type": "code",
    "id": "dMsrYdNGd40N"
   },
   "outputs": [],
   "source": [
    "# Дописать код здесь\n",
    "\n",
    "n = 100 # размер матрицы\n",
    "m = 100\n",
    "\n",
    "v = 20 # длина векторов\n",
    "\n",
    "mtx = np.random.randint(1,100,(n,m))\n",
    "vctr_1 = np.random.randint(0,n,v)\n",
    "vctr_2 = np.random.randint(0,m,v)"
   ]
  },
  {
   "cell_type": "code",
   "execution_count": 63,
   "metadata": {},
   "outputs": [
    {
     "data": {
      "text/plain": [
       "array([35, 34, 77, 31, 23,  1, 91,  1, 76, 27, 93, 22, 69, 40, 97, 77, 24,\n",
       "       51, 41, 93])"
      ]
     },
     "execution_count": 63,
     "metadata": {},
     "output_type": "execute_result"
    }
   ],
   "source": [
    "mtx[vctr_1,vctr_2]"
   ]
  },
  {
   "cell_type": "markdown",
   "metadata": {
    "colab_type": "text",
    "id": "DI4t-M3Pd40W"
   },
   "source": [
    "### 17. Алгоритм Дейкстры на numpy"
   ]
  },
  {
   "cell_type": "markdown",
   "metadata": {},
   "source": [
    "## +"
   ]
  },
  {
   "cell_type": "code",
   "execution_count": 64,
   "metadata": {
    "colab": {},
    "colab_type": "code",
    "id": "3dZAZJZxd40X"
   },
   "outputs": [],
   "source": [
    "# функция вычисления пути между точками по таблице\n",
    "def traice_dij(n_in, n_out, traice):\n",
    "    n_x = n_out\n",
    "    res = np.zeros(nodes.shape[0])\n",
    "    cnt = 0\n",
    "    while n_in != n_out:\n",
    "        n_out = traice[nodes == n_out]\n",
    "        res[cnt] = n_out\n",
    "        cnt +=1\n",
    "    \n",
    "    return np.asarray(np.concatenate((res[res!=0][::-1],np.array([n_x,]))), dtype='int')"
   ]
  },
  {
   "cell_type": "code",
   "execution_count": 65,
   "metadata": {},
   "outputs": [],
   "source": [
    "# заполнение таблицы и вывод результатов\n",
    "def dij(node_in, node_out):\n",
    "    if isinstance(node_in, str):\n",
    "        node_in = ord(node_in)\n",
    "        node_out = ord(node_out)\n",
    "    n_i, n_o = node_in, node_out\n",
    "    traice = np.zeros(nodes.shape[0])\n",
    "    n_row = 1\n",
    "    table[0,np.where(nodes == node_in)] = 0\n",
    "    while node_out != node_in:\n",
    "        if n_row == table.shape[0]:\n",
    "            return (np.array([]), 'между узлами нет пути', table)\n",
    "        indx_node_in = np.where(nodes == node_in)[0][0] # индекс начального узла\n",
    "        indx_adj_edges = np.where(edges[:,[0]]==node_in)[0] # индекы смежных ребер\n",
    "        indx_adj_nodes = np.where(nodes == edges[indx_adj_edges][:,[1]])[1] # индекы смежных узлов\n",
    "        \n",
    "        # строка c весами из текущего узла\n",
    "        tmp_row = np.array(table[n_row-1,:])\n",
    "        tmp_row[indx_adj_nodes] = weight_edges[indx_adj_edges] + table[n_row-1,indx_node_in]\n",
    "\n",
    "        table[n_row,:] = np.where(table[n_row-1, :]> tmp_row, tmp_row, table[n_row-1, :]) # присваиваются веса ребером не больше предыдушего значения\n",
    "        mask_nodes[indx_node_in] = False # текущий узел исключается из маски\n",
    "        indx_min_row = np.where(table[n_row] == np.min(table[n_row,mask_nodes]))[0][0] # индекс минимального значения в строке\n",
    "        \n",
    "        traice[table[n_row,:] != table[n_row - 1,:]] = nodes[indx_node_in]\n",
    "                     \n",
    "        node_in = nodes[indx_min_row]\n",
    "        n_row += 1\n",
    "    return (traice_dij(n_i, n_o,traice), int(table[n_row-1, indx_min_row]), table)\n",
    "    "
   ]
  },
  {
   "cell_type": "markdown",
   "metadata": {},
   "source": [
    "создание случайного графа со случайными весами"
   ]
  },
  {
   "cell_type": "code",
   "execution_count": 66,
   "metadata": {},
   "outputs": [],
   "source": [
    "n_nodes = 5\n",
    "n_edges = 12\n",
    "span_weight = [1,20]\n",
    "\n",
    "# создаем количество узлов равное n_nodes\n",
    "# но не больше кочества символов в интервале (a-z)\n",
    "nodes = np.arange(97, 97 + (n_nodes if 1<= n_nodes < 26 else 26))\n",
    "\n",
    "# создаем все воззможные комбинации из двух символов\n",
    "all_edges = np.array(np.meshgrid(nodes, nodes)).T.reshape(-1,2)\n",
    "all_edges = all_edges[np.ravel(all_edges[:,[0]] != all_edges[:,[1]])]\n",
    "# перемешиваем и выбирам из перемешанной комбинации количество ребер равное n_edges\n",
    "# но не больше количества комбинаций\n",
    "edges = all_edges[np.random.permutation(all_edges.shape[0]),:][:n_edges if n_edges <= np.size(all_edges) else all_edges]\n",
    "\n",
    "# создаем случайные веса ребер из диапазона span_weight\n",
    "weight_edges = np.random.randint(span_weight[0], span_weight[1], edges.shape[0])\n",
    "\n",
    "# обнуляем вес ребер в которых начальный и конечный узел совпадают\n",
    "weight_edges[np.ravel(edges[:,[0]] == edges[:,[1]])] = 0\n",
    "\n",
    "# не пройденные узлы\n",
    "mask_nodes = np.full(n_nodes, True)\n",
    "\n",
    "# создаем пустую матрицу для счета путей\n",
    "table= np.full((nodes.shape[0],nodes.shape[0]),  np.inf)"
   ]
  },
  {
   "cell_type": "code",
   "execution_count": 67,
   "metadata": {},
   "outputs": [
    {
     "name": "stdout",
     "output_type": "stream",
     "text": [
      "a b c d e\n"
     ]
    }
   ],
   "source": [
    "# узлы\n",
    "print(*list(map(chr, nodes)))"
   ]
  },
  {
   "cell_type": "code",
   "execution_count": 68,
   "metadata": {},
   "outputs": [
    {
     "name": "stdout",
     "output_type": "stream",
     "text": [
      "b a -- 13\n",
      "c d -- 17\n",
      "a b -- 7\n",
      "a c -- 7\n",
      "a e -- 14\n",
      "e d -- 3\n",
      "c e -- 3\n",
      "d b -- 2\n",
      "c b -- 12\n",
      "a d -- 13\n",
      "e b -- 4\n",
      "b d -- 9\n"
     ]
    }
   ],
   "source": [
    "# ребра и их вес\n",
    "for i, weight in zip(edges, weight_edges):\n",
    "    print(chr(i[0]),chr(i[1]),'--', weight)"
   ]
  },
  {
   "cell_type": "code",
   "execution_count": 69,
   "metadata": {},
   "outputs": [],
   "source": [
    "data = dij('a','d')"
   ]
  },
  {
   "cell_type": "code",
   "execution_count": 70,
   "metadata": {},
   "outputs": [
    {
     "name": "stdout",
     "output_type": "stream",
     "text": [
      "\n"
     ]
    }
   ],
   "source": [
    "# наикротчайший путь\n",
    "print(*list(map(chr, data[0])))"
   ]
  },
  {
   "cell_type": "code",
   "execution_count": 71,
   "metadata": {},
   "outputs": [
    {
     "data": {
      "text/plain": [
       "'между узлами нет пути'"
      ]
     },
     "execution_count": 71,
     "metadata": {},
     "output_type": "execute_result"
    }
   ],
   "source": [
    "# длинна пути\n",
    "data[1]"
   ]
  },
  {
   "cell_type": "code",
   "execution_count": 72,
   "metadata": {},
   "outputs": [
    {
     "data": {
      "text/plain": [
       "array([[ 0., inf, inf, inf, inf],\n",
       "       [ 0.,  7.,  7., 13., 14.],\n",
       "       [ 0.,  7.,  7., 13., 14.],\n",
       "       [ 0.,  7.,  7., 13., 14.],\n",
       "       [ 0.,  7.,  7., 13., 14.]])"
      ]
     },
     "execution_count": 72,
     "metadata": {},
     "output_type": "execute_result"
    }
   ],
   "source": [
    "# таблица с расчетами\n",
    "data[2]"
   ]
  },
  {
   "cell_type": "markdown",
   "metadata": {},
   "source": [
    "граф с заранее извесным решением"
   ]
  },
  {
   "attachments": {
    "1.jpg": {
     "image/jpeg": "[encoded data removed]"
    }
   },
   "cell_type": "markdown",
   "metadata": {},
   "source": [
    "![1.jpg](attachment:1.jpg)"
   ]
  },
  {
   "cell_type": "code",
   "execution_count": 73,
   "metadata": {},
   "outputs": [],
   "source": [
    "nodes = np.array([1,2,3,4,5,6,7,8,9])\n",
    "edges = np.array([[1,2],[1,3],[1,4],[2,4],[2,9],[3,5],[4,3],[4,5],[4,6],[4,7],[5,6],[5,9],[6,9],[6,8],[7,8],[7,9],[8,9]])\n",
    "weight_edges = np.array([10,6,8,5,11,3,2,5,7,12,9,12,10,8,6,16,15])\n",
    "table= np.full((nodes.shape[0],nodes.shape[0]),  np.inf)\n",
    "mask_nodes = np.full(nodes.shape[0], True)"
   ]
  },
  {
   "cell_type": "code",
   "execution_count": 74,
   "metadata": {},
   "outputs": [],
   "source": [
    "data = dij(1, 9)"
   ]
  },
  {
   "cell_type": "code",
   "execution_count": 75,
   "metadata": {},
   "outputs": [
    {
     "name": "stdout",
     "output_type": "stream",
     "text": [
      "1 3 5 9\n"
     ]
    }
   ],
   "source": [
    "# наикротчайший путь\n",
    "print(*data[0])"
   ]
  },
  {
   "cell_type": "code",
   "execution_count": 76,
   "metadata": {},
   "outputs": [
    {
     "data": {
      "text/plain": [
       "21"
      ]
     },
     "execution_count": 76,
     "metadata": {},
     "output_type": "execute_result"
    }
   ],
   "source": [
    "# длинна пути\n",
    "data[1]"
   ]
  },
  {
   "cell_type": "code",
   "execution_count": 77,
   "metadata": {},
   "outputs": [
    {
     "data": {
      "text/plain": [
       "array([[ 0., inf, inf, inf, inf, inf, inf, inf, inf],\n",
       "       [ 0., 10.,  6.,  8., inf, inf, inf, inf, inf],\n",
       "       [ 0., 10.,  6.,  8.,  9., inf, inf, inf, inf],\n",
       "       [ 0., 10.,  6.,  8.,  9., 15., 20., inf, inf],\n",
       "       [ 0., 10.,  6.,  8.,  9., 15., 20., inf, 21.],\n",
       "       [ 0., 10.,  6.,  8.,  9., 15., 20., inf, 21.],\n",
       "       [ 0., 10.,  6.,  8.,  9., 15., 20., 23., 21.],\n",
       "       [ 0., 10.,  6.,  8.,  9., 15., 20., 23., 21.],\n",
       "       [inf, inf, inf, inf, inf, inf, inf, inf, inf]])"
      ]
     },
     "execution_count": 77,
     "metadata": {},
     "output_type": "execute_result"
    }
   ],
   "source": [
    "# таблица с расчетами\n",
    "data[2]"
   ]
  },
  {
   "cell_type": "markdown",
   "metadata": {},
   "source": [
    "граф где между узлами нет пути"
   ]
  },
  {
   "cell_type": "code",
   "execution_count": 78,
   "metadata": {},
   "outputs": [],
   "source": [
    "nodes = np.array([1,2,3,4])\n",
    "edges = np.array([[1,2],[3,4]])\n",
    "weight_edges = np.array([10,2])\n",
    "table= np.full((nodes.shape[0],nodes.shape[0]),  np.inf)\n",
    "mask_nodes = np.full(nodes.shape[0], True)"
   ]
  },
  {
   "cell_type": "code",
   "execution_count": 79,
   "metadata": {},
   "outputs": [],
   "source": [
    "data = dij(1, 9)"
   ]
  },
  {
   "cell_type": "code",
   "execution_count": 80,
   "metadata": {},
   "outputs": [
    {
     "data": {
      "text/plain": [
       "array([], dtype=float64)"
      ]
     },
     "execution_count": 80,
     "metadata": {},
     "output_type": "execute_result"
    }
   ],
   "source": [
    "data[0]"
   ]
  },
  {
   "cell_type": "code",
   "execution_count": 81,
   "metadata": {},
   "outputs": [
    {
     "data": {
      "text/plain": [
       "'между узлами нет пути'"
      ]
     },
     "execution_count": 81,
     "metadata": {},
     "output_type": "execute_result"
    }
   ],
   "source": [
    "data[1]"
   ]
  },
  {
   "cell_type": "code",
   "execution_count": 82,
   "metadata": {},
   "outputs": [
    {
     "data": {
      "text/plain": [
       "array([[ 0., inf, inf, inf],\n",
       "       [ 0., 10., inf, inf],\n",
       "       [ 0., 10., inf, inf],\n",
       "       [ 0., 10., inf, inf]])"
      ]
     },
     "execution_count": 82,
     "metadata": {},
     "output_type": "execute_result"
    }
   ],
   "source": [
    "data[2]"
   ]
  },
  {
   "cell_type": "code",
   "execution_count": null,
   "metadata": {},
   "outputs": [],
   "source": []
  }
 ],
 "metadata": {
  "colab": {
   "name": "Numpy-HW.ipynb",
   "provenance": []
  },
  "kernelspec": {
   "display_name": "Python 3",
   "language": "python",
   "name": "python3"
  },
  "language_info": {
   "codemirror_mode": {
    "name": "ipython",
    "version": 3
   },
   "file_extension": ".py",
   "mimetype": "text/x-python",
   "name": "python",
   "nbconvert_exporter": "python",
   "pygments_lexer": "ipython3",
   "version": "3.8.5"
  }
 },
 "nbformat": 4,
 "nbformat_minor": 4
}
