{
 "cells": [
  {
   "cell_type": "code",
   "execution_count": 1,
   "metadata": {},
   "outputs": [],
   "source": [
    "import pandas as pd"
   ]
  },
  {
   "cell_type": "code",
   "execution_count": 2,
   "metadata": {},
   "outputs": [],
   "source": [
    "df = pd.read_csv('movie_metadata.csv').drop_duplicates()"
   ]
  },
  {
   "cell_type": "markdown",
   "metadata": {},
   "source": [
    "### Какие 10 фильмов были самыми прибыльными?"
   ]
  },
  {
   "cell_type": "code",
   "execution_count": 3,
   "metadata": {},
   "outputs": [],
   "source": [
    "df['profit'] = df['gross'] - df['budget']"
   ]
  },
  {
   "cell_type": "code",
   "execution_count": 4,
   "metadata": {},
   "outputs": [
    {
     "data": {
      "text/html": [
       "<div>\n",
       "<style scoped>\n",
       "    .dataframe tbody tr th:only-of-type {\n",
       "        vertical-align: middle;\n",
       "    }\n",
       "\n",
       "    .dataframe tbody tr th {\n",
       "        vertical-align: top;\n",
       "    }\n",
       "\n",
       "    .dataframe thead th {\n",
       "        text-align: right;\n",
       "    }\n",
       "</style>\n",
       "<table border=\"1\" class=\"dataframe\">\n",
       "  <thead>\n",
       "    <tr style=\"text-align: right;\">\n",
       "      <th></th>\n",
       "      <th>movie_title</th>\n",
       "      <th>title_year</th>\n",
       "      <th>profit</th>\n",
       "    </tr>\n",
       "  </thead>\n",
       "  <tbody>\n",
       "    <tr>\n",
       "      <th>0</th>\n",
       "      <td>Avatar</td>\n",
       "      <td>2009.0</td>\n",
       "      <td>523505847.0</td>\n",
       "    </tr>\n",
       "    <tr>\n",
       "      <th>1</th>\n",
       "      <td>Jurassic World</td>\n",
       "      <td>2015.0</td>\n",
       "      <td>502177271.0</td>\n",
       "    </tr>\n",
       "    <tr>\n",
       "      <th>2</th>\n",
       "      <td>Titanic</td>\n",
       "      <td>1997.0</td>\n",
       "      <td>458672302.0</td>\n",
       "    </tr>\n",
       "    <tr>\n",
       "      <th>3</th>\n",
       "      <td>Star Wars: Episode IV - A New Hope</td>\n",
       "      <td>1977.0</td>\n",
       "      <td>449935665.0</td>\n",
       "    </tr>\n",
       "    <tr>\n",
       "      <th>4</th>\n",
       "      <td>E.T. the Extra-Terrestrial</td>\n",
       "      <td>1982.0</td>\n",
       "      <td>424449459.0</td>\n",
       "    </tr>\n",
       "    <tr>\n",
       "      <th>5</th>\n",
       "      <td>The Avengers</td>\n",
       "      <td>2012.0</td>\n",
       "      <td>403279547.0</td>\n",
       "    </tr>\n",
       "    <tr>\n",
       "      <th>6</th>\n",
       "      <td>The Lion King</td>\n",
       "      <td>1994.0</td>\n",
       "      <td>377783777.0</td>\n",
       "    </tr>\n",
       "    <tr>\n",
       "      <th>7</th>\n",
       "      <td>Star Wars: Episode I - The Phantom Menace</td>\n",
       "      <td>1999.0</td>\n",
       "      <td>359544677.0</td>\n",
       "    </tr>\n",
       "    <tr>\n",
       "      <th>8</th>\n",
       "      <td>The Dark Knight</td>\n",
       "      <td>2008.0</td>\n",
       "      <td>348316061.0</td>\n",
       "    </tr>\n",
       "    <tr>\n",
       "      <th>9</th>\n",
       "      <td>The Hunger Games</td>\n",
       "      <td>2012.0</td>\n",
       "      <td>329999255.0</td>\n",
       "    </tr>\n",
       "  </tbody>\n",
       "</table>\n",
       "</div>"
      ],
      "text/plain": [
       "                                  movie_title  title_year       profit\n",
       "0                                     Avatar       2009.0  523505847.0\n",
       "1                             Jurassic World       2015.0  502177271.0\n",
       "2                                    Titanic       1997.0  458672302.0\n",
       "3         Star Wars: Episode IV - A New Hope       1977.0  449935665.0\n",
       "4                 E.T. the Extra-Terrestrial       1982.0  424449459.0\n",
       "5                               The Avengers       2012.0  403279547.0\n",
       "6                              The Lion King       1994.0  377783777.0\n",
       "7  Star Wars: Episode I - The Phantom Menace       1999.0  359544677.0\n",
       "8                            The Dark Knight       2008.0  348316061.0\n",
       "9                           The Hunger Games       2012.0  329999255.0"
      ]
     },
     "execution_count": 4,
     "metadata": {},
     "output_type": "execute_result"
    }
   ],
   "source": [
    "df.sort_values(by='profit', ascending=False).head(10).loc[:,['movie_title', 'title_year', 'profit']].reset_index(drop=True)"
   ]
  },
  {
   "cell_type": "markdown",
   "metadata": {},
   "source": [
    "### Назовите 5 самых долгих фильмов за всю историю. Смотрели ли вы их?"
   ]
  },
  {
   "cell_type": "code",
   "execution_count": 5,
   "metadata": {},
   "outputs": [
    {
     "data": {
      "text/html": [
       "<div>\n",
       "<style scoped>\n",
       "    .dataframe tbody tr th:only-of-type {\n",
       "        vertical-align: middle;\n",
       "    }\n",
       "\n",
       "    .dataframe tbody tr th {\n",
       "        vertical-align: top;\n",
       "    }\n",
       "\n",
       "    .dataframe thead th {\n",
       "        text-align: right;\n",
       "    }\n",
       "</style>\n",
       "<table border=\"1\" class=\"dataframe\">\n",
       "  <thead>\n",
       "    <tr style=\"text-align: right;\">\n",
       "      <th></th>\n",
       "      <th>movie_title</th>\n",
       "      <th>title_year</th>\n",
       "      <th>country</th>\n",
       "      <th>genres</th>\n",
       "      <th>duration</th>\n",
       "    </tr>\n",
       "  </thead>\n",
       "  <tbody>\n",
       "    <tr>\n",
       "      <th>0</th>\n",
       "      <td>Trapped</td>\n",
       "      <td>NaN</td>\n",
       "      <td>Iceland</td>\n",
       "      <td>Crime|Drama|Thriller</td>\n",
       "      <td>511.0</td>\n",
       "    </tr>\n",
       "    <tr>\n",
       "      <th>1</th>\n",
       "      <td>Carlos</td>\n",
       "      <td>NaN</td>\n",
       "      <td>France</td>\n",
       "      <td>Biography|Crime|Drama|Thriller</td>\n",
       "      <td>334.0</td>\n",
       "    </tr>\n",
       "    <tr>\n",
       "      <th>2</th>\n",
       "      <td>Blood In, Blood Out</td>\n",
       "      <td>1993.0</td>\n",
       "      <td>USA</td>\n",
       "      <td>Crime|Drama</td>\n",
       "      <td>330.0</td>\n",
       "    </tr>\n",
       "    <tr>\n",
       "      <th>3</th>\n",
       "      <td>Heaven's Gate</td>\n",
       "      <td>1980.0</td>\n",
       "      <td>USA</td>\n",
       "      <td>Adventure|Drama|Western</td>\n",
       "      <td>325.0</td>\n",
       "    </tr>\n",
       "    <tr>\n",
       "      <th>4</th>\n",
       "      <td>The Legend of Suriyothai</td>\n",
       "      <td>2001.0</td>\n",
       "      <td>Thailand</td>\n",
       "      <td>Action|Adventure|Drama|History|War</td>\n",
       "      <td>300.0</td>\n",
       "    </tr>\n",
       "  </tbody>\n",
       "</table>\n",
       "</div>"
      ],
      "text/plain": [
       "                 movie_title  title_year   country  \\\n",
       "0       Trapped                      NaN   Iceland   \n",
       "1        Carlos                      NaN    France   \n",
       "2       Blood In, Blood Out       1993.0       USA   \n",
       "3             Heaven's Gate       1980.0       USA   \n",
       "4  The Legend of Suriyothai       2001.0  Thailand   \n",
       "\n",
       "                               genres  duration  \n",
       "0                Crime|Drama|Thriller     511.0  \n",
       "1      Biography|Crime|Drama|Thriller     334.0  \n",
       "2                         Crime|Drama     330.0  \n",
       "3             Adventure|Drama|Western     325.0  \n",
       "4  Action|Adventure|Drama|History|War     300.0  "
      ]
     },
     "execution_count": 5,
     "metadata": {},
     "output_type": "execute_result"
    }
   ],
   "source": [
    "df.sort_values(by='duration', ascending=False).head(5).loc[:,['movie_title', 'title_year', 'country', 'genres', 'duration']].reset_index(drop=True)"
   ]
  },
  {
   "cell_type": "markdown",
   "metadata": {},
   "source": [
    "нет, не смотрел эти фильмы."
   ]
  },
  {
   "cell_type": "markdown",
   "metadata": {},
   "source": [
    "### Какой режиссер снял больше всего фильмов?"
   ]
  },
  {
   "cell_type": "code",
   "execution_count": 6,
   "metadata": {},
   "outputs": [
    {
     "data": {
      "text/html": [
       "<div>\n",
       "<style scoped>\n",
       "    .dataframe tbody tr th:only-of-type {\n",
       "        vertical-align: middle;\n",
       "    }\n",
       "\n",
       "    .dataframe tbody tr th {\n",
       "        vertical-align: top;\n",
       "    }\n",
       "\n",
       "    .dataframe thead th {\n",
       "        text-align: right;\n",
       "    }\n",
       "</style>\n",
       "<table border=\"1\" class=\"dataframe\">\n",
       "  <thead>\n",
       "    <tr style=\"text-align: right;\">\n",
       "      <th></th>\n",
       "      <th>number_of_movies</th>\n",
       "    </tr>\n",
       "    <tr>\n",
       "      <th>director_name</th>\n",
       "      <th></th>\n",
       "    </tr>\n",
       "  </thead>\n",
       "  <tbody>\n",
       "    <tr>\n",
       "      <th>Steven Spielberg</th>\n",
       "      <td>26</td>\n",
       "    </tr>\n",
       "  </tbody>\n",
       "</table>\n",
       "</div>"
      ],
      "text/plain": [
       "                  number_of_movies\n",
       "director_name                     \n",
       "Steven Spielberg                26"
      ]
     },
     "execution_count": 6,
     "metadata": {},
     "output_type": "execute_result"
    }
   ],
   "source": [
    "df.groupby(['director_name']).count()[['movie_title']].sort_values(by='movie_title', ascending=False).rename(columns={'movie_title':'number_of_movies'}).head(1)"
   ]
  },
  {
   "cell_type": "code",
   "execution_count": 7,
   "metadata": {},
   "outputs": [
    {
     "data": {
      "text/html": [
       "<div>\n",
       "<style scoped>\n",
       "    .dataframe tbody tr th:only-of-type {\n",
       "        vertical-align: middle;\n",
       "    }\n",
       "\n",
       "    .dataframe tbody tr th {\n",
       "        vertical-align: top;\n",
       "    }\n",
       "\n",
       "    .dataframe thead th {\n",
       "        text-align: right;\n",
       "    }\n",
       "</style>\n",
       "<table border=\"1\" class=\"dataframe\">\n",
       "  <thead>\n",
       "    <tr style=\"text-align: right;\">\n",
       "      <th></th>\n",
       "      <th>movie_title</th>\n",
       "      <th>title_year</th>\n",
       "      <th>country</th>\n",
       "      <th>genres</th>\n",
       "      <th>profit</th>\n",
       "    </tr>\n",
       "  </thead>\n",
       "  <tbody>\n",
       "    <tr>\n",
       "      <th>0</th>\n",
       "      <td>Jaws</td>\n",
       "      <td>1975.0</td>\n",
       "      <td>USA</td>\n",
       "      <td>Adventure|Drama|Thriller</td>\n",
       "      <td>252000000.0</td>\n",
       "    </tr>\n",
       "    <tr>\n",
       "      <th>1</th>\n",
       "      <td>Close Encounters of the Third Kind</td>\n",
       "      <td>1977.0</td>\n",
       "      <td>USA</td>\n",
       "      <td>Drama|Sci-Fi</td>\n",
       "      <td>108899130.0</td>\n",
       "    </tr>\n",
       "    <tr>\n",
       "      <th>2</th>\n",
       "      <td>1941</td>\n",
       "      <td>1979.0</td>\n",
       "      <td>USA</td>\n",
       "      <td>Action|Comedy|War</td>\n",
       "      <td>NaN</td>\n",
       "    </tr>\n",
       "    <tr>\n",
       "      <th>3</th>\n",
       "      <td>Raiders of the Lost Ark</td>\n",
       "      <td>1981.0</td>\n",
       "      <td>USA</td>\n",
       "      <td>Action|Adventure</td>\n",
       "      <td>224374454.0</td>\n",
       "    </tr>\n",
       "    <tr>\n",
       "      <th>4</th>\n",
       "      <td>E.T. the Extra-Terrestrial</td>\n",
       "      <td>1982.0</td>\n",
       "      <td>USA</td>\n",
       "      <td>Family|Sci-Fi</td>\n",
       "      <td>424449459.0</td>\n",
       "    </tr>\n",
       "    <tr>\n",
       "      <th>5</th>\n",
       "      <td>Indiana Jones and the Temple of Doom</td>\n",
       "      <td>1984.0</td>\n",
       "      <td>USA</td>\n",
       "      <td>Action|Adventure</td>\n",
       "      <td>151870271.0</td>\n",
       "    </tr>\n",
       "    <tr>\n",
       "      <th>6</th>\n",
       "      <td>The Color Purple</td>\n",
       "      <td>1985.0</td>\n",
       "      <td>USA</td>\n",
       "      <td>Drama</td>\n",
       "      <td>79175854.0</td>\n",
       "    </tr>\n",
       "    <tr>\n",
       "      <th>7</th>\n",
       "      <td>Indiana Jones and the Last Crusade</td>\n",
       "      <td>1989.0</td>\n",
       "      <td>USA</td>\n",
       "      <td>Action|Adventure|Fantasy</td>\n",
       "      <td>149171806.0</td>\n",
       "    </tr>\n",
       "    <tr>\n",
       "      <th>8</th>\n",
       "      <td>Hook</td>\n",
       "      <td>1991.0</td>\n",
       "      <td>USA</td>\n",
       "      <td>Adventure|Comedy|Family|Fantasy</td>\n",
       "      <td>49654900.0</td>\n",
       "    </tr>\n",
       "    <tr>\n",
       "      <th>9</th>\n",
       "      <td>Jurassic Park</td>\n",
       "      <td>1993.0</td>\n",
       "      <td>USA</td>\n",
       "      <td>Adventure|Sci-Fi|Thriller</td>\n",
       "      <td>293784000.0</td>\n",
       "    </tr>\n",
       "    <tr>\n",
       "      <th>10</th>\n",
       "      <td>Schindler's List</td>\n",
       "      <td>1993.0</td>\n",
       "      <td>USA</td>\n",
       "      <td>Biography|Drama|History</td>\n",
       "      <td>74067179.0</td>\n",
       "    </tr>\n",
       "    <tr>\n",
       "      <th>11</th>\n",
       "      <td>The Lost World: Jurassic Park</td>\n",
       "      <td>1997.0</td>\n",
       "      <td>USA</td>\n",
       "      <td>Action|Adventure|Sci-Fi</td>\n",
       "      <td>156074524.0</td>\n",
       "    </tr>\n",
       "    <tr>\n",
       "      <th>12</th>\n",
       "      <td>Amistad</td>\n",
       "      <td>1997.0</td>\n",
       "      <td>USA</td>\n",
       "      <td>Drama|History</td>\n",
       "      <td>8175394.0</td>\n",
       "    </tr>\n",
       "    <tr>\n",
       "      <th>13</th>\n",
       "      <td>Saving Private Ryan</td>\n",
       "      <td>1998.0</td>\n",
       "      <td>USA</td>\n",
       "      <td>Action|Drama|War</td>\n",
       "      <td>146119491.0</td>\n",
       "    </tr>\n",
       "    <tr>\n",
       "      <th>14</th>\n",
       "      <td>A.I. Artificial Intelligence</td>\n",
       "      <td>2001.0</td>\n",
       "      <td>USA</td>\n",
       "      <td>Adventure|Drama|Sci-Fi</td>\n",
       "      <td>-21383311.0</td>\n",
       "    </tr>\n",
       "    <tr>\n",
       "      <th>15</th>\n",
       "      <td>Minority Report</td>\n",
       "      <td>2002.0</td>\n",
       "      <td>USA</td>\n",
       "      <td>Action|Mystery|Sci-Fi|Thriller</td>\n",
       "      <td>30014112.0</td>\n",
       "    </tr>\n",
       "    <tr>\n",
       "      <th>16</th>\n",
       "      <td>Catch Me If You Can</td>\n",
       "      <td>2002.0</td>\n",
       "      <td>USA</td>\n",
       "      <td>Biography|Crime|Drama</td>\n",
       "      <td>112435221.0</td>\n",
       "    </tr>\n",
       "    <tr>\n",
       "      <th>17</th>\n",
       "      <td>The Terminal</td>\n",
       "      <td>2004.0</td>\n",
       "      <td>USA</td>\n",
       "      <td>Comedy|Drama</td>\n",
       "      <td>17032279.0</td>\n",
       "    </tr>\n",
       "    <tr>\n",
       "      <th>18</th>\n",
       "      <td>Munich</td>\n",
       "      <td>2005.0</td>\n",
       "      <td>France</td>\n",
       "      <td>Drama|History|Thriller</td>\n",
       "      <td>-22620910.0</td>\n",
       "    </tr>\n",
       "    <tr>\n",
       "      <th>19</th>\n",
       "      <td>War of the Worlds</td>\n",
       "      <td>2005.0</td>\n",
       "      <td>USA</td>\n",
       "      <td>Adventure|Sci-Fi|Thriller</td>\n",
       "      <td>102277056.0</td>\n",
       "    </tr>\n",
       "    <tr>\n",
       "      <th>20</th>\n",
       "      <td>Indiana Jones and the Kingdom of the Crystal S...</td>\n",
       "      <td>2008.0</td>\n",
       "      <td>USA</td>\n",
       "      <td>Action|Adventure|Fantasy</td>\n",
       "      <td>132011114.0</td>\n",
       "    </tr>\n",
       "    <tr>\n",
       "      <th>21</th>\n",
       "      <td>War Horse</td>\n",
       "      <td>2011.0</td>\n",
       "      <td>USA</td>\n",
       "      <td>Drama|War</td>\n",
       "      <td>13883359.0</td>\n",
       "    </tr>\n",
       "    <tr>\n",
       "      <th>22</th>\n",
       "      <td>The Adventures of Tintin</td>\n",
       "      <td>2011.0</td>\n",
       "      <td>USA</td>\n",
       "      <td>Action|Adventure|Family|Mystery</td>\n",
       "      <td>-57435963.0</td>\n",
       "    </tr>\n",
       "    <tr>\n",
       "      <th>23</th>\n",
       "      <td>Lincoln</td>\n",
       "      <td>2012.0</td>\n",
       "      <td>USA</td>\n",
       "      <td>Biography|Drama|History|War</td>\n",
       "      <td>117204440.0</td>\n",
       "    </tr>\n",
       "    <tr>\n",
       "      <th>24</th>\n",
       "      <td>Bridge of Spies</td>\n",
       "      <td>2015.0</td>\n",
       "      <td>USA</td>\n",
       "      <td>Drama|History|Thriller</td>\n",
       "      <td>32306065.0</td>\n",
       "    </tr>\n",
       "    <tr>\n",
       "      <th>25</th>\n",
       "      <td>The BFG</td>\n",
       "      <td>2016.0</td>\n",
       "      <td>UK</td>\n",
       "      <td>Adventure|Family|Fantasy</td>\n",
       "      <td>-87207693.0</td>\n",
       "    </tr>\n",
       "  </tbody>\n",
       "</table>\n",
       "</div>"
      ],
      "text/plain": [
       "                                          movie_title  title_year country  \\\n",
       "0                                               Jaws       1975.0     USA   \n",
       "1                 Close Encounters of the Third Kind       1977.0     USA   \n",
       "2                                               1941       1979.0     USA   \n",
       "3                            Raiders of the Lost Ark       1981.0     USA   \n",
       "4                         E.T. the Extra-Terrestrial       1982.0     USA   \n",
       "5               Indiana Jones and the Temple of Doom       1984.0     USA   \n",
       "6                                   The Color Purple       1985.0     USA   \n",
       "7                 Indiana Jones and the Last Crusade       1989.0     USA   \n",
       "8                                               Hook       1991.0     USA   \n",
       "9                                      Jurassic Park       1993.0     USA   \n",
       "10                                  Schindler's List       1993.0     USA   \n",
       "11                     The Lost World: Jurassic Park       1997.0     USA   \n",
       "12                                           Amistad       1997.0     USA   \n",
       "13                               Saving Private Ryan       1998.0     USA   \n",
       "14                      A.I. Artificial Intelligence       2001.0     USA   \n",
       "15                                   Minority Report       2002.0     USA   \n",
       "16                               Catch Me If You Can       2002.0     USA   \n",
       "17                                      The Terminal       2004.0     USA   \n",
       "18                                            Munich       2005.0  France   \n",
       "19                                 War of the Worlds       2005.0     USA   \n",
       "20  Indiana Jones and the Kingdom of the Crystal S...      2008.0     USA   \n",
       "21                                         War Horse       2011.0     USA   \n",
       "22                          The Adventures of Tintin       2011.0     USA   \n",
       "23                                           Lincoln       2012.0     USA   \n",
       "24                                   Bridge of Spies       2015.0     USA   \n",
       "25                                           The BFG       2016.0      UK   \n",
       "\n",
       "                             genres       profit  \n",
       "0          Adventure|Drama|Thriller  252000000.0  \n",
       "1                      Drama|Sci-Fi  108899130.0  \n",
       "2                 Action|Comedy|War          NaN  \n",
       "3                  Action|Adventure  224374454.0  \n",
       "4                     Family|Sci-Fi  424449459.0  \n",
       "5                  Action|Adventure  151870271.0  \n",
       "6                             Drama   79175854.0  \n",
       "7          Action|Adventure|Fantasy  149171806.0  \n",
       "8   Adventure|Comedy|Family|Fantasy   49654900.0  \n",
       "9         Adventure|Sci-Fi|Thriller  293784000.0  \n",
       "10          Biography|Drama|History   74067179.0  \n",
       "11          Action|Adventure|Sci-Fi  156074524.0  \n",
       "12                    Drama|History    8175394.0  \n",
       "13                 Action|Drama|War  146119491.0  \n",
       "14           Adventure|Drama|Sci-Fi  -21383311.0  \n",
       "15   Action|Mystery|Sci-Fi|Thriller   30014112.0  \n",
       "16            Biography|Crime|Drama  112435221.0  \n",
       "17                     Comedy|Drama   17032279.0  \n",
       "18           Drama|History|Thriller  -22620910.0  \n",
       "19        Adventure|Sci-Fi|Thriller  102277056.0  \n",
       "20         Action|Adventure|Fantasy  132011114.0  \n",
       "21                        Drama|War   13883359.0  \n",
       "22  Action|Adventure|Family|Mystery  -57435963.0  \n",
       "23      Biography|Drama|History|War  117204440.0  \n",
       "24           Drama|History|Thriller   32306065.0  \n",
       "25         Adventure|Family|Fantasy  -87207693.0  "
      ]
     },
     "execution_count": 7,
     "metadata": {},
     "output_type": "execute_result"
    }
   ],
   "source": [
    "df[df['director_name'] == 'Steven Spielberg'].loc[:,['movie_title', 'title_year', 'country', 'genres', 'profit']].sort_values(by='title_year').reset_index(drop=True)"
   ]
  },
  {
   "cell_type": "markdown",
   "metadata": {},
   "source": [
    "### Какие русские фильмы оказались в рейтинге IMDB? Какой жанр встречается чаще всего? У какого фильма самая большая прибыль?"
   ]
  },
  {
   "cell_type": "code",
   "execution_count": 8,
   "metadata": {},
   "outputs": [],
   "source": [
    "russian_movies = df[df['country'] == 'Russia'].loc[:,['movie_title', 'title_year', 'genres', 'director_name', 'profit']]"
   ]
  },
  {
   "cell_type": "code",
   "execution_count": 9,
   "metadata": {},
   "outputs": [
    {
     "data": {
      "text/html": [
       "<div>\n",
       "<style scoped>\n",
       "    .dataframe tbody tr th:only-of-type {\n",
       "        vertical-align: middle;\n",
       "    }\n",
       "\n",
       "    .dataframe tbody tr th {\n",
       "        vertical-align: top;\n",
       "    }\n",
       "\n",
       "    .dataframe thead th {\n",
       "        text-align: right;\n",
       "    }\n",
       "</style>\n",
       "<table border=\"1\" class=\"dataframe\">\n",
       "  <thead>\n",
       "    <tr style=\"text-align: right;\">\n",
       "      <th></th>\n",
       "      <th>movie_title</th>\n",
       "      <th>title_year</th>\n",
       "      <th>genres</th>\n",
       "      <th>director_name</th>\n",
       "      <th>profit</th>\n",
       "    </tr>\n",
       "  </thead>\n",
       "  <tbody>\n",
       "    <tr>\n",
       "      <th>0</th>\n",
       "      <td>A Warrior's Tail</td>\n",
       "      <td>2015.0</td>\n",
       "      <td>Adventure|Animation|Fantasy</td>\n",
       "      <td>Maksim Fadeev</td>\n",
       "      <td>NaN</td>\n",
       "    </tr>\n",
       "    <tr>\n",
       "      <th>1</th>\n",
       "      <td>Viy</td>\n",
       "      <td>2014.0</td>\n",
       "      <td>Adventure|Fantasy|Mystery|Thriller</td>\n",
       "      <td>Oleg Stepchenko</td>\n",
       "      <td>NaN</td>\n",
       "    </tr>\n",
       "    <tr>\n",
       "      <th>2</th>\n",
       "      <td>Machete Kills</td>\n",
       "      <td>2013.0</td>\n",
       "      <td>Action|Comedy|Crime|Thriller</td>\n",
       "      <td>Robert Rodriguez</td>\n",
       "      <td>-12731341.0</td>\n",
       "    </tr>\n",
       "    <tr>\n",
       "      <th>3</th>\n",
       "      <td>Hard to Be a God</td>\n",
       "      <td>2013.0</td>\n",
       "      <td>Drama|Sci-Fi</td>\n",
       "      <td>Aleksey German</td>\n",
       "      <td>NaN</td>\n",
       "    </tr>\n",
       "    <tr>\n",
       "      <th>4</th>\n",
       "      <td>The Geographer Drank His Globe Away</td>\n",
       "      <td>2013.0</td>\n",
       "      <td>Adventure|Drama</td>\n",
       "      <td>Aleksandr Veledinskiy</td>\n",
       "      <td>NaN</td>\n",
       "    </tr>\n",
       "    <tr>\n",
       "      <th>5</th>\n",
       "      <td>Snow Queen</td>\n",
       "      <td>2012.0</td>\n",
       "      <td>Adventure|Animation|Family</td>\n",
       "      <td>Vladlen Barbe</td>\n",
       "      <td>NaN</td>\n",
       "    </tr>\n",
       "    <tr>\n",
       "      <th>6</th>\n",
       "      <td>Space Dogs</td>\n",
       "      <td>2010.0</td>\n",
       "      <td>Adventure|Animation|Comedy|Family</td>\n",
       "      <td>Inna Evlannikova</td>\n",
       "      <td>NaN</td>\n",
       "    </tr>\n",
       "    <tr>\n",
       "      <th>7</th>\n",
       "      <td>Obitaemyy ostrov</td>\n",
       "      <td>2009.0</td>\n",
       "      <td>Action|Adventure|Sci-Fi</td>\n",
       "      <td>Fedor Bondarchuk</td>\n",
       "      <td>NaN</td>\n",
       "    </tr>\n",
       "    <tr>\n",
       "      <th>8</th>\n",
       "      <td>Mongol: The Rise of Genghis Khan</td>\n",
       "      <td>2007.0</td>\n",
       "      <td>Adventure|Biography|Drama|History|War</td>\n",
       "      <td>Sergey Bodrov</td>\n",
       "      <td>-14298357.0</td>\n",
       "    </tr>\n",
       "    <tr>\n",
       "      <th>9</th>\n",
       "      <td>Night Watch</td>\n",
       "      <td>2004.0</td>\n",
       "      <td>Fantasy|Thriller</td>\n",
       "      <td>Timur Bekmambetov</td>\n",
       "      <td>-2712523.0</td>\n",
       "    </tr>\n",
       "    <tr>\n",
       "      <th>10</th>\n",
       "      <td>The Return</td>\n",
       "      <td>2003.0</td>\n",
       "      <td>Drama|Mystery|Thriller</td>\n",
       "      <td>Andrey Zvyagintsev</td>\n",
       "      <td>NaN</td>\n",
       "    </tr>\n",
       "  </tbody>\n",
       "</table>\n",
       "</div>"
      ],
      "text/plain": [
       "                             movie_title  title_year  \\\n",
       "0                      A Warrior's Tail       2015.0   \n",
       "1                                   Viy       2014.0   \n",
       "2                         Machete Kills       2013.0   \n",
       "3                      Hard to Be a God       2013.0   \n",
       "4   The Geographer Drank His Globe Away       2013.0   \n",
       "5                            Snow Queen       2012.0   \n",
       "6                            Space Dogs       2010.0   \n",
       "7                      Obitaemyy ostrov       2009.0   \n",
       "8      Mongol: The Rise of Genghis Khan       2007.0   \n",
       "9                           Night Watch       2004.0   \n",
       "10                           The Return       2003.0   \n",
       "\n",
       "                                   genres          director_name      profit  \n",
       "0             Adventure|Animation|Fantasy          Maksim Fadeev         NaN  \n",
       "1      Adventure|Fantasy|Mystery|Thriller        Oleg Stepchenko         NaN  \n",
       "2            Action|Comedy|Crime|Thriller       Robert Rodriguez -12731341.0  \n",
       "3                            Drama|Sci-Fi         Aleksey German         NaN  \n",
       "4                         Adventure|Drama  Aleksandr Veledinskiy         NaN  \n",
       "5              Adventure|Animation|Family          Vladlen Barbe         NaN  \n",
       "6       Adventure|Animation|Comedy|Family       Inna Evlannikova         NaN  \n",
       "7                 Action|Adventure|Sci-Fi       Fedor Bondarchuk         NaN  \n",
       "8   Adventure|Biography|Drama|History|War          Sergey Bodrov -14298357.0  \n",
       "9                        Fantasy|Thriller      Timur Bekmambetov  -2712523.0  \n",
       "10                 Drama|Mystery|Thriller     Andrey Zvyagintsev         NaN  "
      ]
     },
     "execution_count": 9,
     "metadata": {},
     "output_type": "execute_result"
    }
   ],
   "source": [
    "russian_movies.sort_values(by = 'title_year', ascending= False).reset_index(drop=True)"
   ]
  },
  {
   "cell_type": "code",
   "execution_count": 10,
   "metadata": {},
   "outputs": [],
   "source": [
    "tmp = russian_movies['genres'].str.split('|').apply(pd.Series, 1).stack().droplevel(-1)\n",
    "tmp.name = 'genres'\n",
    "del russian_movies['genres']\n",
    "rus_mov_genres = russian_movies.join(tmp).reset_index(drop=True)"
   ]
  },
  {
   "cell_type": "markdown",
   "metadata": {},
   "source": [
    "Жанр, чаще всего встречающийся в Русских фильмах, попавших в рейтинг IMDB"
   ]
  },
  {
   "cell_type": "code",
   "execution_count": 11,
   "metadata": {},
   "outputs": [
    {
     "data": {
      "text/html": [
       "<div>\n",
       "<style scoped>\n",
       "    .dataframe tbody tr th:only-of-type {\n",
       "        vertical-align: middle;\n",
       "    }\n",
       "\n",
       "    .dataframe tbody tr th {\n",
       "        vertical-align: top;\n",
       "    }\n",
       "\n",
       "    .dataframe thead th {\n",
       "        text-align: right;\n",
       "    }\n",
       "</style>\n",
       "<table border=\"1\" class=\"dataframe\">\n",
       "  <thead>\n",
       "    <tr style=\"text-align: right;\">\n",
       "      <th></th>\n",
       "      <th>number_of_movies</th>\n",
       "    </tr>\n",
       "    <tr>\n",
       "      <th>genres</th>\n",
       "      <th></th>\n",
       "    </tr>\n",
       "  </thead>\n",
       "  <tbody>\n",
       "    <tr>\n",
       "      <th>Adventure</th>\n",
       "      <td>7</td>\n",
       "    </tr>\n",
       "  </tbody>\n",
       "</table>\n",
       "</div>"
      ],
      "text/plain": [
       "           number_of_movies\n",
       "genres                     \n",
       "Adventure                 7"
      ]
     },
     "execution_count": 11,
     "metadata": {},
     "output_type": "execute_result"
    }
   ],
   "source": [
    "rus_mov_genres.groupby(by='genres').count()[['movie_title']].sort_values(by='movie_title', ascending=False).rename(columns={'movie_title':'number_of_movies'}).head(1)"
   ]
  },
  {
   "cell_type": "markdown",
   "metadata": {},
   "source": [
    "Самая большая прибыль у Русского фильма попвшего в рейтинг IMDB (скорее менее убыточный)"
   ]
  },
  {
   "cell_type": "code",
   "execution_count": 12,
   "metadata": {},
   "outputs": [
    {
     "data": {
      "text/html": [
       "<div>\n",
       "<style scoped>\n",
       "    .dataframe tbody tr th:only-of-type {\n",
       "        vertical-align: middle;\n",
       "    }\n",
       "\n",
       "    .dataframe tbody tr th {\n",
       "        vertical-align: top;\n",
       "    }\n",
       "\n",
       "    .dataframe thead th {\n",
       "        text-align: right;\n",
       "    }\n",
       "</style>\n",
       "<table border=\"1\" class=\"dataframe\">\n",
       "  <thead>\n",
       "    <tr style=\"text-align: right;\">\n",
       "      <th></th>\n",
       "      <th>movie_title</th>\n",
       "      <th>title_year</th>\n",
       "      <th>director_name</th>\n",
       "      <th>profit</th>\n",
       "    </tr>\n",
       "  </thead>\n",
       "  <tbody>\n",
       "    <tr>\n",
       "      <th>0</th>\n",
       "      <td>Night Watch</td>\n",
       "      <td>2004.0</td>\n",
       "      <td>Timur Bekmambetov</td>\n",
       "      <td>-2712523.0</td>\n",
       "    </tr>\n",
       "  </tbody>\n",
       "</table>\n",
       "</div>"
      ],
      "text/plain": [
       "    movie_title  title_year      director_name     profit\n",
       "0  Night Watch       2004.0  Timur Bekmambetov -2712523.0"
      ]
     },
     "execution_count": 12,
     "metadata": {},
     "output_type": "execute_result"
    }
   ],
   "source": [
    "russian_movies.sort_values(by = 'profit', ascending= False).reset_index(drop=True).head(1)"
   ]
  },
  {
   "cell_type": "markdown",
   "metadata": {},
   "source": [
    "### Назовите самый старый черно-белый фильм."
   ]
  },
  {
   "cell_type": "code",
   "execution_count": 13,
   "metadata": {},
   "outputs": [
    {
     "data": {
      "text/html": [
       "<div>\n",
       "<style scoped>\n",
       "    .dataframe tbody tr th:only-of-type {\n",
       "        vertical-align: middle;\n",
       "    }\n",
       "\n",
       "    .dataframe tbody tr th {\n",
       "        vertical-align: top;\n",
       "    }\n",
       "\n",
       "    .dataframe thead th {\n",
       "        text-align: right;\n",
       "    }\n",
       "</style>\n",
       "<table border=\"1\" class=\"dataframe\">\n",
       "  <thead>\n",
       "    <tr style=\"text-align: right;\">\n",
       "      <th></th>\n",
       "      <th>movie_title</th>\n",
       "      <th>title_year</th>\n",
       "      <th>country</th>\n",
       "      <th>genres</th>\n",
       "      <th>director_name</th>\n",
       "    </tr>\n",
       "  </thead>\n",
       "  <tbody>\n",
       "    <tr>\n",
       "      <th>0</th>\n",
       "      <td>Intolerance: Love's Struggle Throughout the Ages</td>\n",
       "      <td>1916.0</td>\n",
       "      <td>USA</td>\n",
       "      <td>Drama|History|War</td>\n",
       "      <td>D.W. Griffith</td>\n",
       "    </tr>\n",
       "  </tbody>\n",
       "</table>\n",
       "</div>"
      ],
      "text/plain": [
       "                                         movie_title  title_year country  \\\n",
       "0  Intolerance: Love's Struggle Throughout the Ages       1916.0     USA   \n",
       "\n",
       "              genres  director_name  \n",
       "0  Drama|History|War  D.W. Griffith  "
      ]
     },
     "execution_count": 13,
     "metadata": {},
     "output_type": "execute_result"
    }
   ],
   "source": [
    "df[df['color'] == ' Black and White'].sort_values(by = 'title_year').reset_index(drop=True).loc[[0],['movie_title', 'title_year', 'country', 'genres', 'director_name']]"
   ]
  },
  {
   "cell_type": "markdown",
   "metadata": {},
   "source": [
    "### Фильмы какой страны отображены в наибольшем количестве в этой статистике? Какая страна, снимающая фильмы, для вас оказалась самой неожиданной? =)"
   ]
  },
  {
   "cell_type": "code",
   "execution_count": 14,
   "metadata": {},
   "outputs": [],
   "source": [
    "numb_movies_by_country = df.groupby(['country']).count()[['movie_title']].rename(columns={'movie_title':'number_of_movies'}).sort_values(by='number_of_movies', ascending= False)"
   ]
  },
  {
   "cell_type": "code",
   "execution_count": 15,
   "metadata": {},
   "outputs": [
    {
     "data": {
      "text/html": [
       "<div>\n",
       "<style scoped>\n",
       "    .dataframe tbody tr th:only-of-type {\n",
       "        vertical-align: middle;\n",
       "    }\n",
       "\n",
       "    .dataframe tbody tr th {\n",
       "        vertical-align: top;\n",
       "    }\n",
       "\n",
       "    .dataframe thead th {\n",
       "        text-align: right;\n",
       "    }\n",
       "</style>\n",
       "<table border=\"1\" class=\"dataframe\">\n",
       "  <thead>\n",
       "    <tr style=\"text-align: right;\">\n",
       "      <th></th>\n",
       "      <th>number_of_movies</th>\n",
       "    </tr>\n",
       "    <tr>\n",
       "      <th>country</th>\n",
       "      <th></th>\n",
       "    </tr>\n",
       "  </thead>\n",
       "  <tbody>\n",
       "    <tr>\n",
       "      <th>USA</th>\n",
       "      <td>3773</td>\n",
       "    </tr>\n",
       "  </tbody>\n",
       "</table>\n",
       "</div>"
      ],
      "text/plain": [
       "         number_of_movies\n",
       "country                  \n",
       "USA                  3773"
      ]
     },
     "execution_count": 15,
     "metadata": {},
     "output_type": "execute_result"
    }
   ],
   "source": [
    "numb_movies_by_country.head(1)"
   ]
  },
  {
   "cell_type": "code",
   "execution_count": 16,
   "metadata": {},
   "outputs": [
    {
     "data": {
      "text/plain": [
       "Index(['USA', 'UK', 'France', 'Canada', 'Germany', 'Australia', 'India',\n",
       "       'Spain', 'China', 'Italy', 'Japan', 'Mexico', 'Hong Kong',\n",
       "       'New Zealand', 'South Korea', 'Ireland', 'Denmark', 'Russia', 'Norway',\n",
       "       'South Africa', 'Brazil', 'Sweden', 'Poland', 'Netherlands', 'Thailand',\n",
       "       'Romania', 'Argentina', 'Iran', 'Belgium', 'Israel', 'Switzerland',\n",
       "       'West Germany', 'Czech Republic', 'Iceland', 'Hungary', 'Greece',\n",
       "       'Taiwan', 'Indonesia', 'Cambodia', 'Colombia', 'Soviet Union', 'Chile',\n",
       "       'Cameroon', 'Bulgaria', 'Slovakia', 'Turkey', 'Bahamas', 'Aruba',\n",
       "       'United Arab Emirates', 'Slovenia', 'Egypt', 'Dominican Republic',\n",
       "       'Kenya', 'Finland', 'Philippines', 'Peru', 'Panama', 'Pakistan',\n",
       "       'Official site', 'Georgia', 'Nigeria', 'New Line', 'Libya',\n",
       "       'Kyrgyzstan', 'Afghanistan'],\n",
       "      dtype='object', name='country')"
      ]
     },
     "execution_count": 16,
     "metadata": {},
     "output_type": "execute_result"
    }
   ],
   "source": [
    "numb_movies_by_country.index"
   ]
  },
  {
   "cell_type": "markdown",
   "metadata": {},
   "source": [
    "Самой неожиданной, показалась страна Аруба, которая в 1998 году с населением (87 277 человек) сняла фильм и попала в рейтинг IMDB "
   ]
  },
  {
   "cell_type": "code",
   "execution_count": 17,
   "metadata": {},
   "outputs": [
    {
     "data": {
      "text/html": [
       "<div>\n",
       "<style scoped>\n",
       "    .dataframe tbody tr th:only-of-type {\n",
       "        vertical-align: middle;\n",
       "    }\n",
       "\n",
       "    .dataframe tbody tr th {\n",
       "        vertical-align: top;\n",
       "    }\n",
       "\n",
       "    .dataframe thead th {\n",
       "        text-align: right;\n",
       "    }\n",
       "</style>\n",
       "<table border=\"1\" class=\"dataframe\">\n",
       "  <thead>\n",
       "    <tr style=\"text-align: right;\">\n",
       "      <th></th>\n",
       "      <th>movie_title</th>\n",
       "      <th>title_year</th>\n",
       "      <th>country</th>\n",
       "      <th>genres</th>\n",
       "      <th>director_name</th>\n",
       "    </tr>\n",
       "  </thead>\n",
       "  <tbody>\n",
       "    <tr>\n",
       "      <th>1491</th>\n",
       "      <td>Knock Off</td>\n",
       "      <td>1998.0</td>\n",
       "      <td>Aruba</td>\n",
       "      <td>Action|Comedy|Thriller</td>\n",
       "      <td>Hark Tsui</td>\n",
       "    </tr>\n",
       "  </tbody>\n",
       "</table>\n",
       "</div>"
      ],
      "text/plain": [
       "     movie_title  title_year country                  genres director_name\n",
       "1491  Knock Off       1998.0   Aruba  Action|Comedy|Thriller     Hark Tsui"
      ]
     },
     "execution_count": 17,
     "metadata": {},
     "output_type": "execute_result"
    }
   ],
   "source": [
    "df[df.country == 'Aruba'].loc[:, ['movie_title', 'title_year', 'country', 'genres', 'director_name']]"
   ]
  },
  {
   "cell_type": "markdown",
   "metadata": {},
   "source": [
    "### Кто самый популярный актер в мире?"
   ]
  },
  {
   "cell_type": "code",
   "execution_count": 18,
   "metadata": {},
   "outputs": [],
   "source": [
    "actor_1 = df.groupby(['actor_1_name']).sum()[['actor_1_facebook_likes']]\n",
    "actor_2 = df.groupby(['actor_2_name']).sum()[['actor_2_facebook_likes']]\n",
    "actor_3 = df.groupby(['actor_3_name']).sum()[['actor_3_facebook_likes']]"
   ]
  },
  {
   "cell_type": "code",
   "execution_count": 19,
   "metadata": {},
   "outputs": [],
   "source": [
    "all_like = actor_1.merge(actor_2,how='outer', left_index=True, right_index=True).merge(actor_3,how='outer', left_index=True, right_index=True)"
   ]
  },
  {
   "cell_type": "code",
   "execution_count": 20,
   "metadata": {},
   "outputs": [],
   "source": [
    "all_like['like'] = all_like.iloc[:,:].sum(axis=1)"
   ]
  },
  {
   "cell_type": "code",
   "execution_count": 21,
   "metadata": {},
   "outputs": [
    {
     "data": {
      "text/html": [
       "<div>\n",
       "<style scoped>\n",
       "    .dataframe tbody tr th:only-of-type {\n",
       "        vertical-align: middle;\n",
       "    }\n",
       "\n",
       "    .dataframe tbody tr th {\n",
       "        vertical-align: top;\n",
       "    }\n",
       "\n",
       "    .dataframe thead th {\n",
       "        text-align: right;\n",
       "    }\n",
       "</style>\n",
       "<table border=\"1\" class=\"dataframe\">\n",
       "  <thead>\n",
       "    <tr style=\"text-align: right;\">\n",
       "      <th></th>\n",
       "      <th>like</th>\n",
       "    </tr>\n",
       "  </thead>\n",
       "  <tbody>\n",
       "    <tr>\n",
       "      <th>Johnny Depp</th>\n",
       "      <td>1600000.0</td>\n",
       "    </tr>\n",
       "  </tbody>\n",
       "</table>\n",
       "</div>"
      ],
      "text/plain": [
       "                  like\n",
       "Johnny Depp  1600000.0"
      ]
     },
     "execution_count": 21,
     "metadata": {},
     "output_type": "execute_result"
    }
   ],
   "source": [
    "all_like.sort_values(by='like', ascending=False)[['like']].head(1)"
   ]
  },
  {
   "cell_type": "code",
   "execution_count": 25,
   "metadata": {},
   "outputs": [
    {
     "data": {
      "text/plain": [
       "actor_1_facebook_likes    1600000.0\n",
       "Name: Johnny Depp, dtype: float64"
      ]
     },
     "execution_count": 25,
     "metadata": {},
     "output_type": "execute_result"
    }
   ],
   "source": [
    "actor_1.loc['Johnny Depp',:]"
   ]
  },
  {
   "cell_type": "code",
   "execution_count": null,
   "metadata": {},
   "outputs": [],
   "source": []
  }
 ],
 "metadata": {
  "kernelspec": {
   "display_name": "Python 3",
   "language": "python",
   "name": "python3"
  },
  "language_info": {
   "codemirror_mode": {
    "name": "ipython",
    "version": 3
   },
   "file_extension": ".py",
   "mimetype": "text/x-python",
   "name": "python",
   "nbconvert_exporter": "python",
   "pygments_lexer": "ipython3",
   "version": "3.8.5"
  }
 },
 "nbformat": 4,
 "nbformat_minor": 4
}
